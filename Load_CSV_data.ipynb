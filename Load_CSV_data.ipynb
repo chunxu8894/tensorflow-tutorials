{
  "nbformat": 4,
  "nbformat_minor": 0,
  "metadata": {
    "colab": {
      "name": "Load CSV data.ipynb",
      "provenance": [],
      "collapsed_sections": [],
      "authorship_tag": "ABX9TyM6ZRs+VNFPlZgU1AG+i7k1",
      "include_colab_link": true
    },
    "kernelspec": {
      "name": "python3",
      "display_name": "Python 3"
    }
  },
  "cells": [
    {
      "cell_type": "markdown",
      "metadata": {
        "id": "view-in-github",
        "colab_type": "text"
      },
      "source": [
        "<a href=\"https://colab.research.google.com/github/chunxu8894/tensorflow-tutorials/blob/master/Load_CSV_data.ipynb\" target=\"_parent\"><img src=\"https://colab.research.google.com/assets/colab-badge.svg\" alt=\"Open In Colab\"/></a>"
      ]
    },
    {
      "cell_type": "code",
      "metadata": {
        "id": "C8AQ9fEiKNy3",
        "colab_type": "code",
        "colab": {}
      },
      "source": [
        "import functools\n",
        "\n",
        "import numpy as np\n",
        "import tensorflow as tf"
      ],
      "execution_count": 1,
      "outputs": []
    },
    {
      "cell_type": "code",
      "metadata": {
        "id": "wdl2JYc-lAwG",
        "colab_type": "code",
        "colab": {
          "base_uri": "https://localhost:8080/",
          "height": 90
        },
        "outputId": "14d1016a-8dc1-41c8-fce1-a499026bbe33"
      },
      "source": [
        "TRAIN_DATA_URL = \"https://storage.googleapis.com/tf-datasets/titanic/train.csv\"\n",
        "TEST_DATA_URL = \"https://storage.googleapis.com/tf-datasets/titanic/eval.csv\"\n",
        "\n",
        "train_file_path = tf.keras.utils.get_file(\"train.csv\", TRAIN_DATA_URL)\n",
        "test_file_path = tf.keras.utils.get_file(\"test.csv\", TEST_DATA_URL)"
      ],
      "execution_count": 2,
      "outputs": [
        {
          "output_type": "stream",
          "text": [
            "Downloading data from https://storage.googleapis.com/tf-datasets/titanic/train.csv\n",
            "32768/30874 [===============================] - 0s 0us/step\n",
            "Downloading data from https://storage.googleapis.com/tf-datasets/titanic/eval.csv\n",
            "16384/13049 [=====================================] - 0s 0us/step\n"
          ],
          "name": "stdout"
        }
      ]
    },
    {
      "cell_type": "markdown",
      "metadata": {
        "id": "g1TswwT0lV_F",
        "colab_type": "text"
      },
      "source": [
        "## 2. Load data\n",
        "\n",
        "- load this using pandas and pass the Numpy arrays to Tensorflow.\n",
        "\n",
        "- if you need to scale up to a large set of files, or need a loader that integrates with Tensorflow and tf.data the use the tf.data.experimental.make_csv_dataset function:\n",
        "\n",
        "the only column you need to identify explicity is the one with the value that the model is intended to predict\n"
      ]
    },
    {
      "cell_type": "code",
      "metadata": {
        "id": "JaGnDx0klS7i",
        "colab_type": "code",
        "colab": {}
      },
      "source": [
        "LABEL_COLUMN = 'survived'\n",
        "LABELS = [0,1]\n"
      ],
      "execution_count": 3,
      "outputs": []
    },
    {
      "cell_type": "code",
      "metadata": {
        "id": "SX2d1jvpldWy",
        "colab_type": "code",
        "colab": {}
      },
      "source": [
        "def get_dataset(file_path, **kwargs):\n",
        "  dataset = tf.data.experimental.make_csv_dataset(\n",
        "      file_path,\n",
        "      batch_size=5,\n",
        "      label_name=LABEL_COLUMN,\n",
        "      na_value=\"?\",\n",
        "      num_epochs=1,\n",
        "      ignore_errors=True,\n",
        "      **kwargs\n",
        "  )\n",
        "  return dataset\n",
        "\n",
        "raw_train_data = get_dataset(train_file_path)\n",
        "raw_test_data = get_dataset(test_file_path)"
      ],
      "execution_count": 4,
      "outputs": []
    },
    {
      "cell_type": "code",
      "metadata": {
        "id": "cen9lzJXqpEF",
        "colab_type": "code",
        "colab": {}
      },
      "source": [
        "def show_batch(dataset):\n",
        "  for batch, label in dataset.take(1):\n",
        "    for key, value in batch.items():\n",
        "      print(\"{:20s}: {}\".format(key, value.numpy()))"
      ],
      "execution_count": 5,
      "outputs": []
    },
    {
      "cell_type": "code",
      "metadata": {
        "id": "WwtB0l2eq7oC",
        "colab_type": "code",
        "colab": {
          "base_uri": "https://localhost:8080/",
          "height": 182
        },
        "outputId": "1335b4b6-c0cd-4820-a47d-3152ade10ee6"
      },
      "source": [
        "show_batch(raw_train_data)"
      ],
      "execution_count": 6,
      "outputs": [
        {
          "output_type": "stream",
          "text": [
            "sex                 : [b'male' b'male' b'male' b'male' b'male']\n",
            "age                 : [28. 17. 28. 45. 28.]\n",
            "n_siblings_spouses  : [0 1 0 0 0]\n",
            "parch               : [0 1 0 0 0]\n",
            "fare                : [ 0.      7.2292  7.7292 26.55    0.    ]\n",
            "class               : [b'Second' b'Third' b'Third' b'First' b'Second']\n",
            "deck                : [b'unknown' b'unknown' b'unknown' b'B' b'unknown']\n",
            "embark_town         : [b'Southampton' b'Cherbourg' b'Queenstown' b'Southampton' b'Southampton']\n",
            "alone               : [b'y' b'n' b'y' b'y' b'y']\n"
          ],
          "name": "stdout"
        }
      ]
    },
    {
      "cell_type": "code",
      "metadata": {
        "id": "t8iWlo4crqjj",
        "colab_type": "code",
        "colab": {
          "base_uri": "https://localhost:8080/",
          "height": 201
        },
        "outputId": "d0ade59f-40d2-4729-e5a9-d978720aea51"
      },
      "source": [
        "CSV_COLUMNS = ['survived', 'sex', 'age', 'n_siblings_spouses', 'parch', 'fare', 'class', 'deck', 'embark_town', 'alone']\n",
        "\n",
        "temp_dataset = get_dataset(train_file_path, column_names = CSV_COLUMNS)\n",
        "show_batch(temp_dataset)"
      ],
      "execution_count": 7,
      "outputs": [
        {
          "output_type": "stream",
          "text": [
            "sex                 : [b'male' b'female' b'male' b'female' b'male']\n",
            "age                 : [ 4.  6. 64. 35. 18.]\n",
            "n_siblings_spouses  : [1 0 1 1 0]\n",
            "parch               : [1 1 4 1 0]\n",
            "fare                : [ 11.1333  33.     263.      20.25     8.3   ]\n",
            "class               : [b'Third' b'Second' b'First' b'Third' b'Third']\n",
            "deck                : [b'unknown' b'unknown' b'C' b'unknown' b'unknown']\n",
            "embark_town         : [b'Southampton' b'Southampton' b'Southampton' b'Southampton'\n",
            " b'Southampton']\n",
            "alone               : [b'n' b'n' b'n' b'n' b'y']\n"
          ],
          "name": "stdout"
        }
      ]
    },
    {
      "cell_type": "markdown",
      "metadata": {
        "id": "USCOzgNc5WUA",
        "colab_type": "text"
      },
      "source": [
        "## 3. Data preprocessing\n",
        "\n",
        "A CSV file can contain a variety of data types. Typically you want to convert from those mixed types to a fixed length vector before feeding the data into your model\n",
        "\n",
        "Tensorflow has a built-in system for describing common input conversions: __tf.feature_column__,\n",
        "\n",
        "You can preprocess your data using any tool you like (like __ntlk__ or __sklearn__) and just pass the processed output to Tensorflow\n",
        "\n",
        "The primary advantage of doing the preprocessing inside your model is that when you export the model it include the preprocessing. This way you can pass the raw data directly to your model\n"
      ]
    },
    {
      "cell_type": "markdown",
      "metadata": {
        "id": "63EDzBm_6YGK",
        "colab_type": "text"
      },
      "source": [
        "## 4. Continuous data\n",
        "\n",
        "if your data is already in an appropriate numeric format, you can pack the data into a vector before passing it off to the model:\n"
      ]
    },
    {
      "cell_type": "code",
      "metadata": {
        "id": "iaV0y-yc5CdE",
        "colab_type": "code",
        "colab": {
          "base_uri": "https://localhost:8080/",
          "height": 90
        },
        "outputId": "ae3b95b2-3b35-4aed-bdbc-d4303f31f641"
      },
      "source": [
        "SELECT_COLUMNS = ['survived', 'age', 'n_siblings_spouses', 'parch', 'fare']\n",
        "DEFAULTS = [0,0.0,0.0,0.0,0.0]\n",
        "\n",
        "temp_dataset = get_dataset(train_file_path, select_columns = SELECT_COLUMNS, column_defaults = DEFAULTS)\n",
        "show_batch(temp_dataset)"
      ],
      "execution_count": 8,
      "outputs": [
        {
          "output_type": "stream",
          "text": [
            "age                 : [16. 34. 28. 22. 20.]\n",
            "n_siblings_spouses  : [0. 1. 0. 0. 1.]\n",
            "parch               : [0. 1. 0. 0. 1.]\n",
            "fare                : [ 9.5    14.4    56.4958  7.25   15.7417]\n"
          ],
          "name": "stdout"
        }
      ]
    },
    {
      "cell_type": "code",
      "metadata": {
        "id": "fePkOj9E7a1s",
        "colab_type": "code",
        "colab": {}
      },
      "source": [
        "example_batch, labels_batch = next(iter(temp_dataset))"
      ],
      "execution_count": 9,
      "outputs": []
    },
    {
      "cell_type": "markdown",
      "metadata": {
        "id": "5dzfwUkk7ntT",
        "colab_type": "text"
      },
      "source": [
        "Here's a simple function that will pack together all the columns:"
      ]
    },
    {
      "cell_type": "code",
      "metadata": {
        "id": "Wj92eYCv7lSy",
        "colab_type": "code",
        "colab": {}
      },
      "source": [
        "def pack(features, label):\n",
        "  return tf.stack(list(features.values()), axis=-1), label"
      ],
      "execution_count": 10,
      "outputs": []
    },
    {
      "cell_type": "code",
      "metadata": {
        "id": "amoKKeF074ZX",
        "colab_type": "code",
        "colab": {
          "base_uri": "https://localhost:8080/",
          "height": 146
        },
        "outputId": "00382f99-0547-4367-ace7-ef02a95cc91c"
      },
      "source": [
        "packed_dataset = temp_dataset.map(pack)\n",
        "\n",
        "for features, labels in packed_dataset.take(1):\n",
        "  print(features.numpy())\n",
        "  print()\n",
        "  print(labels.numpy())"
      ],
      "execution_count": 11,
      "outputs": [
        {
          "output_type": "stream",
          "text": [
            "[[28.      0.      0.      6.95  ]\n",
            " [20.      0.      0.      8.05  ]\n",
            " [19.      0.      0.     10.1708]\n",
            " [28.      0.      0.     26.55  ]\n",
            " [45.      0.      0.      8.05  ]]\n",
            "\n",
            "[0 0 0 1 1]\n"
          ],
          "name": "stdout"
        }
      ]
    },
    {
      "cell_type": "markdown",
      "metadata": {
        "id": "rhLWJJgz-HXA",
        "colab_type": "text"
      },
      "source": [
        "if you have mixed data types you want to separate out these simple-numeric fields. The __tf.feature_column__ api can handle them, but this incurs some overhear and should be avoided unless really necessary. Switch back to the  mixed dataset:\n",
        "  "
      ]
    },
    {
      "cell_type": "code",
      "metadata": {
        "id": "VtXtI7JM9fu-",
        "colab_type": "code",
        "colab": {
          "base_uri": "https://localhost:8080/",
          "height": 182
        },
        "outputId": "d2f1e753-045b-421c-8481-9f588bcc6897"
      },
      "source": [
        "show_batch(raw_train_data)"
      ],
      "execution_count": 12,
      "outputs": [
        {
          "output_type": "stream",
          "text": [
            "sex                 : [b'male' b'female' b'male' b'female' b'male']\n",
            "age                 : [20.  4. 28. 31. 28.]\n",
            "n_siblings_spouses  : [0 0 0 0 2]\n",
            "parch               : [0 2 0 0 0]\n",
            "fare                : [ 7.8542 22.025   0.      7.8542 21.6792]\n",
            "class               : [b'Third' b'Third' b'Second' b'Third' b'Third']\n",
            "deck                : [b'unknown' b'unknown' b'unknown' b'unknown' b'unknown']\n",
            "embark_town         : [b'Southampton' b'Southampton' b'Southampton' b'Southampton' b'Cherbourg']\n",
            "alone               : [b'y' b'n' b'y' b'y' b'n']\n"
          ],
          "name": "stdout"
        }
      ]
    },
    {
      "cell_type": "code",
      "metadata": {
        "id": "EcFFmbno8nSR",
        "colab_type": "code",
        "colab": {}
      },
      "source": [
        "example_batch, labels_batch = next(iter(temp_dataset))"
      ],
      "execution_count": 13,
      "outputs": []
    },
    {
      "cell_type": "code",
      "metadata": {
        "id": "BLolSnjS-WAE",
        "colab_type": "code",
        "colab": {}
      },
      "source": [
        "class PackNumericFeatures(object):\n",
        "  def __init__(self, names):\n",
        "    self.names = names\n",
        "\n",
        "  def __call__(self, features, labels):\n",
        "    numeric_features = [features.pop(name) for name in self.names]\n",
        "    numeric_features = [tf.cast(feat, tf.float32) for feat in numeric_features]\n",
        "    numeric_features = tf.stack(numeric_features, axis=-1)\n",
        "    features['numeric'] = numeric_features\n",
        "    return features, labels"
      ],
      "execution_count": 14,
      "outputs": []
    },
    {
      "cell_type": "code",
      "metadata": {
        "id": "vqfCdnRE_QYo",
        "colab_type": "code",
        "colab": {}
      },
      "source": [
        "NUMERIC_FEATURES = ['age', 'n_siblings_spouses','parch', 'fare']\n",
        "\n",
        "packed_train_data = raw_train_data.map(PackNumericFeatures(NUMERIC_FEATURES))\n",
        "\n",
        "packed_test_data = raw_test_data.map(PackNumericFeatures(NUMERIC_FEATURES))"
      ],
      "execution_count": 15,
      "outputs": []
    },
    {
      "cell_type": "code",
      "metadata": {
        "id": "mkf26gMk_7FY",
        "colab_type": "code",
        "colab": {
          "base_uri": "https://localhost:8080/",
          "height": 201
        },
        "outputId": "27ed1f1a-cc91-4456-edc6-62f1520c00c8"
      },
      "source": [
        "show_batch(packed_train_data)"
      ],
      "execution_count": 16,
      "outputs": [
        {
          "output_type": "stream",
          "text": [
            "sex                 : [b'male' b'female' b'male' b'female' b'female']\n",
            "class               : [b'Third' b'First' b'Second' b'Third' b'First']\n",
            "deck                : [b'unknown' b'D' b'unknown' b'unknown' b'B']\n",
            "embark_town         : [b'Southampton' b'Southampton' b'Southampton' b'Queenstown' b'Southampton']\n",
            "alone               : [b'y' b'n' b'y' b'y' b'n']\n",
            "numeric             : [[ 28.       0.       0.       7.8958]\n",
            " [ 51.       1.       0.      77.9583]\n",
            " [ 36.       0.       0.      10.5   ]\n",
            " [ 28.       0.       0.       7.75  ]\n",
            " [ 15.       0.       1.     211.3375]]\n"
          ],
          "name": "stdout"
        }
      ]
    },
    {
      "cell_type": "code",
      "metadata": {
        "id": "NdBI_C8F_-jQ",
        "colab_type": "code",
        "colab": {}
      },
      "source": [
        "example_batch, labels_batch = next(iter(packed_train_data))"
      ],
      "execution_count": 17,
      "outputs": []
    },
    {
      "cell_type": "markdown",
      "metadata": {
        "id": "-WTXkSV2AL4q",
        "colab_type": "text"
      },
      "source": [
        "## 5. Data Normalization\n",
        "Continous data should always be normalized\n"
      ]
    },
    {
      "cell_type": "code",
      "metadata": {
        "id": "Uf1B2_j9AKR9",
        "colab_type": "code",
        "colab": {}
      },
      "source": [
        "import pandas as pd\n",
        "\n",
        "desc = pd.read_csv(train_file_path)[NUMERIC_FEATURES].describe()"
      ],
      "execution_count": 18,
      "outputs": []
    },
    {
      "cell_type": "code",
      "metadata": {
        "id": "g5fADlfFAm_z",
        "colab_type": "code",
        "colab": {
          "base_uri": "https://localhost:8080/",
          "height": 300
        },
        "outputId": "3176cc9d-4c9d-419d-bd03-78b5d476af42"
      },
      "source": [
        "desc"
      ],
      "execution_count": 19,
      "outputs": [
        {
          "output_type": "execute_result",
          "data": {
            "text/html": [
              "<div>\n",
              "<style scoped>\n",
              "    .dataframe tbody tr th:only-of-type {\n",
              "        vertical-align: middle;\n",
              "    }\n",
              "\n",
              "    .dataframe tbody tr th {\n",
              "        vertical-align: top;\n",
              "    }\n",
              "\n",
              "    .dataframe thead th {\n",
              "        text-align: right;\n",
              "    }\n",
              "</style>\n",
              "<table border=\"1\" class=\"dataframe\">\n",
              "  <thead>\n",
              "    <tr style=\"text-align: right;\">\n",
              "      <th></th>\n",
              "      <th>age</th>\n",
              "      <th>n_siblings_spouses</th>\n",
              "      <th>parch</th>\n",
              "      <th>fare</th>\n",
              "    </tr>\n",
              "  </thead>\n",
              "  <tbody>\n",
              "    <tr>\n",
              "      <th>count</th>\n",
              "      <td>627.000000</td>\n",
              "      <td>627.000000</td>\n",
              "      <td>627.000000</td>\n",
              "      <td>627.000000</td>\n",
              "    </tr>\n",
              "    <tr>\n",
              "      <th>mean</th>\n",
              "      <td>29.631308</td>\n",
              "      <td>0.545455</td>\n",
              "      <td>0.379585</td>\n",
              "      <td>34.385399</td>\n",
              "    </tr>\n",
              "    <tr>\n",
              "      <th>std</th>\n",
              "      <td>12.511818</td>\n",
              "      <td>1.151090</td>\n",
              "      <td>0.792999</td>\n",
              "      <td>54.597730</td>\n",
              "    </tr>\n",
              "    <tr>\n",
              "      <th>min</th>\n",
              "      <td>0.750000</td>\n",
              "      <td>0.000000</td>\n",
              "      <td>0.000000</td>\n",
              "      <td>0.000000</td>\n",
              "    </tr>\n",
              "    <tr>\n",
              "      <th>25%</th>\n",
              "      <td>23.000000</td>\n",
              "      <td>0.000000</td>\n",
              "      <td>0.000000</td>\n",
              "      <td>7.895800</td>\n",
              "    </tr>\n",
              "    <tr>\n",
              "      <th>50%</th>\n",
              "      <td>28.000000</td>\n",
              "      <td>0.000000</td>\n",
              "      <td>0.000000</td>\n",
              "      <td>15.045800</td>\n",
              "    </tr>\n",
              "    <tr>\n",
              "      <th>75%</th>\n",
              "      <td>35.000000</td>\n",
              "      <td>1.000000</td>\n",
              "      <td>0.000000</td>\n",
              "      <td>31.387500</td>\n",
              "    </tr>\n",
              "    <tr>\n",
              "      <th>max</th>\n",
              "      <td>80.000000</td>\n",
              "      <td>8.000000</td>\n",
              "      <td>5.000000</td>\n",
              "      <td>512.329200</td>\n",
              "    </tr>\n",
              "  </tbody>\n",
              "</table>\n",
              "</div>"
            ],
            "text/plain": [
              "              age  n_siblings_spouses       parch        fare\n",
              "count  627.000000          627.000000  627.000000  627.000000\n",
              "mean    29.631308            0.545455    0.379585   34.385399\n",
              "std     12.511818            1.151090    0.792999   54.597730\n",
              "min      0.750000            0.000000    0.000000    0.000000\n",
              "25%     23.000000            0.000000    0.000000    7.895800\n",
              "50%     28.000000            0.000000    0.000000   15.045800\n",
              "75%     35.000000            1.000000    0.000000   31.387500\n",
              "max     80.000000            8.000000    5.000000  512.329200"
            ]
          },
          "metadata": {
            "tags": []
          },
          "execution_count": 19
        }
      ]
    },
    {
      "cell_type": "code",
      "metadata": {
        "id": "ryGmtNGeAnu4",
        "colab_type": "code",
        "colab": {}
      },
      "source": [
        "MEAN = np.array(desc.T['mean'])\n",
        "STD = np.array(desc.T['std'])"
      ],
      "execution_count": 20,
      "outputs": []
    },
    {
      "cell_type": "code",
      "metadata": {
        "id": "dxjT9ga7A6XY",
        "colab_type": "code",
        "colab": {}
      },
      "source": [
        "def normalize_numeric_data(data, mean, std):\n",
        "  return (data-mean)/std"
      ],
      "execution_count": 21,
      "outputs": []
    },
    {
      "cell_type": "markdown",
      "metadata": {
        "id": "4LZML7V1B3lr",
        "colab_type": "text"
      },
      "source": [
        "Now create a numeric column. The __tf.feature_columns.numeric_column__ API accepts a normalize_fn argument, which will be run on each batch\n",
        "\n",
        "Bind the MEAN and STD to the normalizer fn using __functions.partial__"
      ]
    },
    {
      "cell_type": "code",
      "metadata": {
        "id": "H-7AZtAcBPxI",
        "colab_type": "code",
        "colab": {
          "base_uri": "https://localhost:8080/",
          "height": 55
        },
        "outputId": "3164ee54-8bc3-4bcb-9504-12f13574f392"
      },
      "source": [
        "normalizer = functools.partial(normalize_numeric_data, mean=MEAN, std=STD)\n",
        "numeric_column = tf.feature_column.numeric_column('numeric', normalizer_fn=normalizer, shape=[len(NUMERIC_FEATURES)])\n",
        "numeric_columns = [numeric_column]\n",
        "numeric_column"
      ],
      "execution_count": 24,
      "outputs": [
        {
          "output_type": "execute_result",
          "data": {
            "text/plain": [
              "NumericColumn(key='numeric', shape=(4,), default_value=None, dtype=tf.float32, normalizer_fn=functools.partial(<function normalize_numeric_data at 0x7f4bb90207b8>, mean=array([29.63130781,  0.54545455,  0.37958533, 34.38539856]), std=array([12.51181763,  1.1510896 ,  0.79299921, 54.5977305 ])))"
            ]
          },
          "metadata": {
            "tags": []
          },
          "execution_count": 24
        }
      ]
    },
    {
      "cell_type": "code",
      "metadata": {
        "id": "eYaGyXs3BQZF",
        "colab_type": "code",
        "colab": {
          "base_uri": "https://localhost:8080/",
          "height": 127
        },
        "outputId": "6df83430-1fcf-4e7b-8a7e-7393921f14d9"
      },
      "source": [
        "example_batch['numeric']"
      ],
      "execution_count": 25,
      "outputs": [
        {
          "output_type": "execute_result",
          "data": {
            "text/plain": [
              "<tf.Tensor: shape=(5, 4), dtype=float32, numpy=\n",
              "array([[ 28.    ,   1.    ,   0.    ,  82.1708],\n",
              "       [ 28.    ,   1.    ,   0.    , 133.65  ],\n",
              "       [ 58.    ,   0.    ,   0.    ,  29.7   ],\n",
              "       [ 46.    ,   0.    ,   0.    ,  79.2   ],\n",
              "       [ 21.    ,   0.    ,   0.    ,  77.9583]], dtype=float32)>"
            ]
          },
          "metadata": {
            "tags": []
          },
          "execution_count": 25
        }
      ]
    },
    {
      "cell_type": "code",
      "metadata": {
        "id": "vxK-xxCGsu2-",
        "colab_type": "code",
        "colab": {
          "base_uri": "https://localhost:8080/",
          "height": 127
        },
        "outputId": "86d75539-41ce-427d-c0c1-cd46d475d2d0"
      },
      "source": [
        "numeric_layer = tf.keras.layers.DenseFeatures(numeric_columns)\n",
        "numeric_layer(example_batch).numpy()"
      ],
      "execution_count": 26,
      "outputs": [
        {
          "output_type": "execute_result",
          "data": {
            "text/plain": [
              "array([[-0.13038135,  0.39488277, -0.4786705 ,  0.8752269 ],\n",
              "       [-0.13038135,  0.39488277, -0.4786705 ,  1.8181086 ],\n",
              "       [ 2.2673519 , -0.47385937, -0.4786705 , -0.08581672],\n",
              "       [ 1.3082585 , -0.47385937, -0.4786705 ,  0.8208143 ],\n",
              "       [-0.6898524 , -0.47385937, -0.4786705 ,  0.7980716 ]],\n",
              "      dtype=float32)"
            ]
          },
          "metadata": {
            "tags": []
          },
          "execution_count": 26
        }
      ]
    },
    {
      "cell_type": "markdown",
      "metadata": {
        "id": "wiJp1TA_vbmF",
        "colab_type": "text"
      },
      "source": [
        "## 6. Categorical data\n",
        "Some of the columns in the CSV data are categorical columns. That is the content should be one of a limited set of options\n",
        "\n",
        "Use the __tf.feature_column__ API to create a collection with a __tf.feature_column.indicator_column__ for each categorical column"
      ]
    },
    {
      "cell_type": "code",
      "metadata": {
        "id": "hXx-pafus7Mz",
        "colab_type": "code",
        "colab": {}
      },
      "source": [
        "CATEGORIES= {\n",
        "    'sex': ['male','female'],\n",
        "    'class': ['First','Second','Third'],\n",
        "    'deck': ['A','B','C','D','E','F','G','H','I','J'],\n",
        "    'embark_town': ['Cherbourg', 'Southhampton', 'Queentown'],\n",
        "    'alone': ['y','n']\n",
        "}"
      ],
      "execution_count": 27,
      "outputs": []
    },
    {
      "cell_type": "code",
      "metadata": {
        "id": "uaygDRSvwsPQ",
        "colab_type": "code",
        "colab": {}
      },
      "source": [
        "categorical_columns = []\n",
        "for feature, vocab in CATEGORIES.items():\n",
        "  cat_col = tf.feature_column.categorical_column_with_vocabulary_list(key=feature, vocabulary_list=vocab)\n",
        "  categorical_columns.append(tf.feature_column.indicator_column(cat_col))"
      ],
      "execution_count": 29,
      "outputs": []
    },
    {
      "cell_type": "code",
      "metadata": {
        "id": "MjzmtQKSxY45",
        "colab_type": "code",
        "colab": {
          "base_uri": "https://localhost:8080/",
          "height": 129
        },
        "outputId": "5b982025-b124-491c-d628-c35358580971"
      },
      "source": [
        "categorical_columns"
      ],
      "execution_count": 30,
      "outputs": [
        {
          "output_type": "execute_result",
          "data": {
            "text/plain": [
              "[IndicatorColumn(categorical_column=VocabularyListCategoricalColumn(key='sex', vocabulary_list=('male', 'female'), dtype=tf.string, default_value=-1, num_oov_buckets=0)),\n",
              " IndicatorColumn(categorical_column=VocabularyListCategoricalColumn(key='class', vocabulary_list=('First', 'Second', 'Third'), dtype=tf.string, default_value=-1, num_oov_buckets=0)),\n",
              " IndicatorColumn(categorical_column=VocabularyListCategoricalColumn(key='deck', vocabulary_list=('A', 'B', 'C', 'D', 'E', 'F', 'G', 'H', 'I', 'J'), dtype=tf.string, default_value=-1, num_oov_buckets=0)),\n",
              " IndicatorColumn(categorical_column=VocabularyListCategoricalColumn(key='embark_town', vocabulary_list=('Cherbourg', 'Southhampton', 'Queentown'), dtype=tf.string, default_value=-1, num_oov_buckets=0)),\n",
              " IndicatorColumn(categorical_column=VocabularyListCategoricalColumn(key='alone', vocabulary_list=('y', 'n'), dtype=tf.string, default_value=-1, num_oov_buckets=0))]"
            ]
          },
          "metadata": {
            "tags": []
          },
          "execution_count": 30
        }
      ]
    },
    {
      "cell_type": "code",
      "metadata": {
        "id": "Umt64qoNxbzd",
        "colab_type": "code",
        "colab": {
          "base_uri": "https://localhost:8080/",
          "height": 35
        },
        "outputId": "68f15d06-b66e-4eda-b7a9-cc8070a351f8"
      },
      "source": [
        "categorical_layer = tf.keras.layers.DenseFeatures(categorical_columns)\n",
        "print(categorical_layer(example_batch).numpy()[0])"
      ],
      "execution_count": 32,
      "outputs": [
        {
          "output_type": "stream",
          "text": [
            "[0. 1. 1. 0. 0. 0. 0. 0. 0. 0. 0. 0. 0. 0. 0. 1. 0. 0. 1. 0.]\n"
          ],
          "name": "stdout"
        }
      ]
    },
    {
      "cell_type": "markdown",
      "metadata": {
        "id": "OTIbs_3Yxx_E",
        "colab_type": "text"
      },
      "source": [
        "This will be become part of data processing input later when you build the model"
      ]
    },
    {
      "cell_type": "markdown",
      "metadata": {
        "id": "a8eavMIDx6AG",
        "colab_type": "text"
      },
      "source": [
        "## 7. Combined preprocessing layer\n",
        "\n",
        "Add the two feature column collections and pass them to a __tf.keras.layers.DenseFeatures__ to create an input layer that will extract and preprocess both input types:\n"
      ]
    },
    {
      "cell_type": "code",
      "metadata": {
        "id": "dRLi14UExsVX",
        "colab_type": "code",
        "colab": {}
      },
      "source": [
        "preprocessing_layer = tf.keras.layers.DenseFeatures(categorical_columns+numeric_columns)"
      ],
      "execution_count": 33,
      "outputs": []
    },
    {
      "cell_type": "code",
      "metadata": {
        "id": "nQkumhaeyymg",
        "colab_type": "code",
        "colab": {
          "base_uri": "https://localhost:8080/",
          "height": 90
        },
        "outputId": "0eb1bb77-5419-46e7-8694-54cdd31fb6c0"
      },
      "source": [
        "print(preprocessing_layer(example_batch).numpy()[0])"
      ],
      "execution_count": 36,
      "outputs": [
        {
          "output_type": "stream",
          "text": [
            "[ 0.          1.          1.          0.          0.          0.\n",
            "  0.          0.          0.          0.          0.          0.\n",
            "  0.          0.          0.          1.          0.          0.\n",
            " -0.13038135  0.39488277 -0.4786705   0.8752269   1.          0.        ]\n"
          ],
          "name": "stdout"
        }
      ]
    },
    {
      "cell_type": "markdown",
      "metadata": {
        "id": "3pNZOrZTzVdL",
        "colab_type": "text"
      },
      "source": [
        "## 8. Build the model\n",
        "\n",
        "Build a __tf.keras.Sequential__, starting with the __preprocessing_layer__"
      ]
    },
    {
      "cell_type": "code",
      "metadata": {
        "id": "dYuOyDMLy5tv",
        "colab_type": "code",
        "colab": {}
      },
      "source": [
        "model = tf.keras.Sequential(\n",
        "    [\n",
        "     preprocessing_layer,\n",
        "     tf.keras.layers.Dense(128, activation='relu'),\n",
        "     tf.keras.layers.Dense(128, activation='relu'),\n",
        "     tf.keras.layers.Dense(1),\n",
        "    ]\n",
        ")\n",
        "\n",
        "model.compile(\n",
        "    loss=tf.keras.losses.BinaryCrossentropy(from_logits=True),\n",
        "    optimizer='adam',\n",
        "    metrics=['accuracy']\n",
        ")"
      ],
      "execution_count": 37,
      "outputs": []
    },
    {
      "cell_type": "code",
      "metadata": {
        "id": "xNnFnoEX0DFp",
        "colab_type": "code",
        "colab": {}
      },
      "source": [
        "train_data = packed_train_data.shuffle(500)\n",
        "test_data = packed_test_data\n"
      ],
      "execution_count": 38,
      "outputs": []
    },
    {
      "cell_type": "code",
      "metadata": {
        "id": "DkWtDBWk0K2H",
        "colab_type": "code",
        "colab": {
          "base_uri": "https://localhost:8080/",
          "height": 1000
        },
        "outputId": "e0072dbb-7840-430e-a89b-4c6c8834dbe9"
      },
      "source": [
        "model.fit(train_data, epochs=40)"
      ],
      "execution_count": 39,
      "outputs": [
        {
          "output_type": "stream",
          "text": [
            "Epoch 1/40\n",
            "126/126 [==============================] - 0s 2ms/step - loss: 0.5005 - accuracy: 0.7368\n",
            "Epoch 2/40\n",
            "126/126 [==============================] - 0s 2ms/step - loss: 0.4288 - accuracy: 0.8054\n",
            "Epoch 3/40\n",
            "126/126 [==============================] - 0s 2ms/step - loss: 0.4098 - accuracy: 0.8325\n",
            "Epoch 4/40\n",
            "126/126 [==============================] - 0s 2ms/step - loss: 0.3925 - accuracy: 0.8086\n",
            "Epoch 5/40\n",
            "126/126 [==============================] - 0s 2ms/step - loss: 0.3858 - accuracy: 0.8262\n",
            "Epoch 6/40\n",
            "126/126 [==============================] - 0s 2ms/step - loss: 0.3825 - accuracy: 0.8230\n",
            "Epoch 7/40\n",
            "126/126 [==============================] - 0s 2ms/step - loss: 0.3760 - accuracy: 0.8246\n",
            "Epoch 8/40\n",
            "126/126 [==============================] - 0s 2ms/step - loss: 0.3709 - accuracy: 0.8421\n",
            "Epoch 9/40\n",
            "126/126 [==============================] - 0s 2ms/step - loss: 0.3651 - accuracy: 0.8357\n",
            "Epoch 10/40\n",
            "126/126 [==============================] - 0s 2ms/step - loss: 0.3586 - accuracy: 0.8405\n",
            "Epoch 11/40\n",
            "126/126 [==============================] - 0s 2ms/step - loss: 0.3622 - accuracy: 0.8357\n",
            "Epoch 12/40\n",
            "126/126 [==============================] - 0s 2ms/step - loss: 0.3498 - accuracy: 0.8533\n",
            "Epoch 13/40\n",
            "126/126 [==============================] - 0s 2ms/step - loss: 0.3425 - accuracy: 0.8437\n",
            "Epoch 14/40\n",
            "126/126 [==============================] - 0s 2ms/step - loss: 0.3377 - accuracy: 0.8453\n",
            "Epoch 15/40\n",
            "126/126 [==============================] - 0s 2ms/step - loss: 0.3325 - accuracy: 0.8453\n",
            "Epoch 16/40\n",
            "126/126 [==============================] - 0s 2ms/step - loss: 0.3316 - accuracy: 0.8325\n",
            "Epoch 17/40\n",
            "126/126 [==============================] - 0s 2ms/step - loss: 0.3283 - accuracy: 0.8517\n",
            "Epoch 18/40\n",
            "126/126 [==============================] - 0s 2ms/step - loss: 0.3231 - accuracy: 0.8724\n",
            "Epoch 19/40\n",
            "126/126 [==============================] - 0s 2ms/step - loss: 0.3233 - accuracy: 0.8501\n",
            "Epoch 20/40\n",
            "126/126 [==============================] - 0s 2ms/step - loss: 0.3181 - accuracy: 0.8581\n",
            "Epoch 21/40\n",
            "126/126 [==============================] - 0s 2ms/step - loss: 0.3260 - accuracy: 0.8405\n",
            "Epoch 22/40\n",
            "126/126 [==============================] - 0s 2ms/step - loss: 0.3122 - accuracy: 0.8644\n",
            "Epoch 23/40\n",
            "126/126 [==============================] - 0s 2ms/step - loss: 0.3104 - accuracy: 0.8660\n",
            "Epoch 24/40\n",
            "126/126 [==============================] - 0s 2ms/step - loss: 0.3079 - accuracy: 0.8628\n",
            "Epoch 25/40\n",
            "126/126 [==============================] - 0s 2ms/step - loss: 0.3095 - accuracy: 0.8644\n",
            "Epoch 26/40\n",
            "126/126 [==============================] - 0s 2ms/step - loss: 0.3042 - accuracy: 0.8581\n",
            "Epoch 27/40\n",
            "126/126 [==============================] - 0s 2ms/step - loss: 0.2978 - accuracy: 0.8660\n",
            "Epoch 28/40\n",
            "126/126 [==============================] - 0s 2ms/step - loss: 0.3028 - accuracy: 0.8692\n",
            "Epoch 29/40\n",
            "126/126 [==============================] - 0s 2ms/step - loss: 0.2950 - accuracy: 0.8612\n",
            "Epoch 30/40\n",
            "126/126 [==============================] - 0s 2ms/step - loss: 0.2941 - accuracy: 0.8660\n",
            "Epoch 31/40\n",
            "126/126 [==============================] - 0s 2ms/step - loss: 0.2893 - accuracy: 0.8772\n",
            "Epoch 32/40\n",
            "126/126 [==============================] - 0s 2ms/step - loss: 0.2889 - accuracy: 0.8708\n",
            "Epoch 33/40\n",
            "126/126 [==============================] - 0s 2ms/step - loss: 0.2906 - accuracy: 0.8596\n",
            "Epoch 34/40\n",
            "126/126 [==============================] - 0s 2ms/step - loss: 0.2882 - accuracy: 0.8612\n",
            "Epoch 35/40\n",
            "126/126 [==============================] - 0s 2ms/step - loss: 0.2903 - accuracy: 0.8724\n",
            "Epoch 36/40\n",
            "126/126 [==============================] - 0s 2ms/step - loss: 0.2854 - accuracy: 0.8628\n",
            "Epoch 37/40\n",
            "126/126 [==============================] - 0s 2ms/step - loss: 0.2812 - accuracy: 0.8724\n",
            "Epoch 38/40\n",
            "126/126 [==============================] - 0s 2ms/step - loss: 0.2851 - accuracy: 0.8708\n",
            "Epoch 39/40\n",
            "126/126 [==============================] - 0s 2ms/step - loss: 0.2858 - accuracy: 0.8596\n",
            "Epoch 40/40\n",
            "126/126 [==============================] - 0s 2ms/step - loss: 0.2836 - accuracy: 0.8676\n"
          ],
          "name": "stdout"
        },
        {
          "output_type": "execute_result",
          "data": {
            "text/plain": [
              "<tensorflow.python.keras.callbacks.History at 0x7f4bb83870f0>"
            ]
          },
          "metadata": {
            "tags": []
          },
          "execution_count": 39
        }
      ]
    },
    {
      "cell_type": "code",
      "metadata": {
        "id": "-IcGJzZ10NuB",
        "colab_type": "code",
        "colab": {
          "base_uri": "https://localhost:8080/",
          "height": 90
        },
        "outputId": "e6272836-8e0f-4a49-a8f4-c3579ff0ac33"
      },
      "source": [
        "test_loss, test_accuracy = model.evaluate(test_data)\n",
        "print(f'\\n\\n Test Loss {test_loss}, Test Accuracy {test_accuracy}')"
      ],
      "execution_count": 41,
      "outputs": [
        {
          "output_type": "stream",
          "text": [
            "53/53 [==============================] - 0s 1ms/step - loss: 0.5485 - accuracy: 0.8106\n",
            "\n",
            "\n",
            " Test Loss 0.5485135912895203, Test Accuracy 0.810606062412262\n"
          ],
          "name": "stdout"
        }
      ]
    },
    {
      "cell_type": "code",
      "metadata": {
        "id": "yOdvjwwS0mYf",
        "colab_type": "code",
        "colab": {
          "base_uri": "https://localhost:8080/",
          "height": 109
        },
        "outputId": "a5648ead-5848-446c-dce3-a1661bb820a2"
      },
      "source": [
        "predictions = model.predict(test_data)\n",
        "\n",
        "#show some results\n",
        "for prediction, survived in zip(predictions[:10], list(test_data)[0][1][:10]):\n",
        "  prediction = tf.sigmoid(prediction).numpy()\n",
        "  print('Predicted survival: {:.2%}'.format(prediction[0]), \" | Actual outcome: \", (\"Survived \" if bool(survived) else \"DIED\"))\n"
      ],
      "execution_count": 42,
      "outputs": [
        {
          "output_type": "stream",
          "text": [
            "Predicted survival: 53.31%  | Actual outcome:  Survived \n",
            "Predicted survival: 6.88%  | Actual outcome:  DIED\n",
            "Predicted survival: 1.38%  | Actual outcome:  Survived \n",
            "Predicted survival: 80.48%  | Actual outcome:  DIED\n",
            "Predicted survival: 77.38%  | Actual outcome:  Survived \n"
          ],
          "name": "stdout"
        }
      ]
    },
    {
      "cell_type": "code",
      "metadata": {
        "id": "F50obrvj2PUt",
        "colab_type": "code",
        "colab": {}
      },
      "source": [
        ""
      ],
      "execution_count": null,
      "outputs": []
    }
  ]
}