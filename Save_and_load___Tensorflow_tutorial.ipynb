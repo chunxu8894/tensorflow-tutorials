{
  "nbformat": 4,
  "nbformat_minor": 0,
  "metadata": {
    "colab": {
      "name": "Save and load _ Tensorflow tutorial.ipynb",
      "provenance": [],
      "collapsed_sections": [],
      "toc_visible": true,
      "authorship_tag": "ABX9TyOQB513EpoFUQIYw4GKgZbV",
      "include_colab_link": true
    },
    "kernelspec": {
      "name": "python3",
      "display_name": "Python 3"
    }
  },
  "cells": [
    {
      "cell_type": "markdown",
      "metadata": {
        "id": "view-in-github",
        "colab_type": "text"
      },
      "source": [
        "<a href=\"https://colab.research.google.com/github/chunxu8894/tensorflow-tutorials/blob/master/Save_and_load___Tensorflow_tutorial.ipynb\" target=\"_parent\"><img src=\"https://colab.research.google.com/assets/colab-badge.svg\" alt=\"Open In Colab\"/></a>"
      ]
    },
    {
      "cell_type": "markdown",
      "metadata": {
        "id": "V1igoDXDbYob",
        "colab_type": "text"
      },
      "source": [
        "# Save and load models\n",
        "Model progress can be saved during and after training. This mean a model can resume where it left off and avoid long training times. Saving also mean you can share your model and others can recreate your work. When publishing research models and techniques, most machine learning practitioners share:\n",
        "- code to create the model\n",
        "- the trained weights or parameters for the model\n",
        "\n",
        "### Options\n",
        "There are different ways to save Tensorflow models - depending on the API you're using. This guide uses tf.keras, a high-level API to build and train models in Tensorflow. For the other approaches, see the Tensorflow [Save and restore](https://www.tensorflow.org/guide/saved_model) guide or [Saving in eager](https://www.tensorflow.org/guide/eager#object-based_saving)"
      ]
    },
    {
      "cell_type": "markdown",
      "metadata": {
        "id": "NJ1-5Yjpcy74",
        "colab_type": "text"
      },
      "source": [
        "## 1.Install and imports"
      ]
    },
    {
      "cell_type": "code",
      "metadata": {
        "id": "hiYBIOULbc4K",
        "colab_type": "code",
        "colab": {}
      },
      "source": [
        "pip install -q pyyaml h5py"
      ],
      "execution_count": 0,
      "outputs": []
    },
    {
      "cell_type": "code",
      "metadata": {
        "id": "63lGVNybc9Fv",
        "colab_type": "code",
        "outputId": "7ef2663f-c13e-4fe3-fc5a-de446b0d185e",
        "colab": {
          "base_uri": "https://localhost:8080/",
          "height": 34
        }
      },
      "source": [
        "import os\n",
        "\n",
        "import tensorflow as tf\n",
        "from tensorflow import keras\n",
        "\n",
        "import matplotlib.pyplot as plt\n",
        "%matplotlib inline\n",
        "print(tf.__version__)"
      ],
      "execution_count": 2,
      "outputs": [
        {
          "output_type": "stream",
          "text": [
            "2.2.0\n"
          ],
          "name": "stdout"
        }
      ]
    },
    {
      "cell_type": "markdown",
      "metadata": {
        "id": "E5Ey7Hj0der5",
        "colab_type": "text"
      },
      "source": [
        "## 2. Get an example Dataset\n"
      ]
    },
    {
      "cell_type": "code",
      "metadata": {
        "id": "6CYr9jMYdNJe",
        "colab_type": "code",
        "colab": {}
      },
      "source": [
        "(train_images, train_labels), (test_images, test_labels) = tf.keras.datasets.mnist.load_data()\n",
        "\n",
        "train_labels= train_labels[:1000]\n",
        "test_labels = test_labels[:1000]\n",
        "\n"
      ],
      "execution_count": 0,
      "outputs": []
    },
    {
      "cell_type": "code",
      "metadata": {
        "id": "MMcJeruzeVul",
        "colab_type": "code",
        "colab": {
          "base_uri": "https://localhost:8080/",
          "height": 1000
        },
        "outputId": "6b09677f-6c86-4239-cee9-24f503e7e2fb"
      },
      "source": [
        "train_images[1]\n"
      ],
      "execution_count": 4,
      "outputs": [
        {
          "output_type": "execute_result",
          "data": {
            "text/plain": [
              "array([[  0,   0,   0,   0,   0,   0,   0,   0,   0,   0,   0,   0,   0,\n",
              "          0,   0,   0,   0,   0,   0,   0,   0,   0,   0,   0,   0,   0,\n",
              "          0,   0],\n",
              "       [  0,   0,   0,   0,   0,   0,   0,   0,   0,   0,   0,   0,   0,\n",
              "          0,   0,   0,   0,   0,   0,   0,   0,   0,   0,   0,   0,   0,\n",
              "          0,   0],\n",
              "       [  0,   0,   0,   0,   0,   0,   0,   0,   0,   0,   0,   0,   0,\n",
              "          0,   0,   0,   0,   0,   0,   0,   0,   0,   0,   0,   0,   0,\n",
              "          0,   0],\n",
              "       [  0,   0,   0,   0,   0,   0,   0,   0,   0,   0,   0,   0,   0,\n",
              "          0,   0,   0,   0,   0,   0,   0,   0,   0,   0,   0,   0,   0,\n",
              "          0,   0],\n",
              "       [  0,   0,   0,   0,   0,   0,   0,   0,   0,   0,   0,   0,   0,\n",
              "          0,   0,  51, 159, 253, 159,  50,   0,   0,   0,   0,   0,   0,\n",
              "          0,   0],\n",
              "       [  0,   0,   0,   0,   0,   0,   0,   0,   0,   0,   0,   0,   0,\n",
              "          0,  48, 238, 252, 252, 252, 237,   0,   0,   0,   0,   0,   0,\n",
              "          0,   0],\n",
              "       [  0,   0,   0,   0,   0,   0,   0,   0,   0,   0,   0,   0,   0,\n",
              "         54, 227, 253, 252, 239, 233, 252,  57,   6,   0,   0,   0,   0,\n",
              "          0,   0],\n",
              "       [  0,   0,   0,   0,   0,   0,   0,   0,   0,   0,   0,  10,  60,\n",
              "        224, 252, 253, 252, 202,  84, 252, 253, 122,   0,   0,   0,   0,\n",
              "          0,   0],\n",
              "       [  0,   0,   0,   0,   0,   0,   0,   0,   0,   0,   0, 163, 252,\n",
              "        252, 252, 253, 252, 252,  96, 189, 253, 167,   0,   0,   0,   0,\n",
              "          0,   0],\n",
              "       [  0,   0,   0,   0,   0,   0,   0,   0,   0,   0,  51, 238, 253,\n",
              "        253, 190, 114, 253, 228,  47,  79, 255, 168,   0,   0,   0,   0,\n",
              "          0,   0],\n",
              "       [  0,   0,   0,   0,   0,   0,   0,   0,   0,  48, 238, 252, 252,\n",
              "        179,  12,  75, 121,  21,   0,   0, 253, 243,  50,   0,   0,   0,\n",
              "          0,   0],\n",
              "       [  0,   0,   0,   0,   0,   0,   0,   0,  38, 165, 253, 233, 208,\n",
              "         84,   0,   0,   0,   0,   0,   0, 253, 252, 165,   0,   0,   0,\n",
              "          0,   0],\n",
              "       [  0,   0,   0,   0,   0,   0,   0,   7, 178, 252, 240,  71,  19,\n",
              "         28,   0,   0,   0,   0,   0,   0, 253, 252, 195,   0,   0,   0,\n",
              "          0,   0],\n",
              "       [  0,   0,   0,   0,   0,   0,   0,  57, 252, 252,  63,   0,   0,\n",
              "          0,   0,   0,   0,   0,   0,   0, 253, 252, 195,   0,   0,   0,\n",
              "          0,   0],\n",
              "       [  0,   0,   0,   0,   0,   0,   0, 198, 253, 190,   0,   0,   0,\n",
              "          0,   0,   0,   0,   0,   0,   0, 255, 253, 196,   0,   0,   0,\n",
              "          0,   0],\n",
              "       [  0,   0,   0,   0,   0,   0,  76, 246, 252, 112,   0,   0,   0,\n",
              "          0,   0,   0,   0,   0,   0,   0, 253, 252, 148,   0,   0,   0,\n",
              "          0,   0],\n",
              "       [  0,   0,   0,   0,   0,   0,  85, 252, 230,  25,   0,   0,   0,\n",
              "          0,   0,   0,   0,   0,   7, 135, 253, 186,  12,   0,   0,   0,\n",
              "          0,   0],\n",
              "       [  0,   0,   0,   0,   0,   0,  85, 252, 223,   0,   0,   0,   0,\n",
              "          0,   0,   0,   0,   7, 131, 252, 225,  71,   0,   0,   0,   0,\n",
              "          0,   0],\n",
              "       [  0,   0,   0,   0,   0,   0,  85, 252, 145,   0,   0,   0,   0,\n",
              "          0,   0,   0,  48, 165, 252, 173,   0,   0,   0,   0,   0,   0,\n",
              "          0,   0],\n",
              "       [  0,   0,   0,   0,   0,   0,  86, 253, 225,   0,   0,   0,   0,\n",
              "          0,   0, 114, 238, 253, 162,   0,   0,   0,   0,   0,   0,   0,\n",
              "          0,   0],\n",
              "       [  0,   0,   0,   0,   0,   0,  85, 252, 249, 146,  48,  29,  85,\n",
              "        178, 225, 253, 223, 167,  56,   0,   0,   0,   0,   0,   0,   0,\n",
              "          0,   0],\n",
              "       [  0,   0,   0,   0,   0,   0,  85, 252, 252, 252, 229, 215, 252,\n",
              "        252, 252, 196, 130,   0,   0,   0,   0,   0,   0,   0,   0,   0,\n",
              "          0,   0],\n",
              "       [  0,   0,   0,   0,   0,   0,  28, 199, 252, 252, 253, 252, 252,\n",
              "        233, 145,   0,   0,   0,   0,   0,   0,   0,   0,   0,   0,   0,\n",
              "          0,   0],\n",
              "       [  0,   0,   0,   0,   0,   0,   0,  25, 128, 252, 253, 252, 141,\n",
              "         37,   0,   0,   0,   0,   0,   0,   0,   0,   0,   0,   0,   0,\n",
              "          0,   0],\n",
              "       [  0,   0,   0,   0,   0,   0,   0,   0,   0,   0,   0,   0,   0,\n",
              "          0,   0,   0,   0,   0,   0,   0,   0,   0,   0,   0,   0,   0,\n",
              "          0,   0],\n",
              "       [  0,   0,   0,   0,   0,   0,   0,   0,   0,   0,   0,   0,   0,\n",
              "          0,   0,   0,   0,   0,   0,   0,   0,   0,   0,   0,   0,   0,\n",
              "          0,   0],\n",
              "       [  0,   0,   0,   0,   0,   0,   0,   0,   0,   0,   0,   0,   0,\n",
              "          0,   0,   0,   0,   0,   0,   0,   0,   0,   0,   0,   0,   0,\n",
              "          0,   0],\n",
              "       [  0,   0,   0,   0,   0,   0,   0,   0,   0,   0,   0,   0,   0,\n",
              "          0,   0,   0,   0,   0,   0,   0,   0,   0,   0,   0,   0,   0,\n",
              "          0,   0]], dtype=uint8)"
            ]
          },
          "metadata": {
            "tags": []
          },
          "execution_count": 4
        }
      ]
    },
    {
      "cell_type": "code",
      "metadata": {
        "id": "Hyw-ewBiewvg",
        "colab_type": "code",
        "colab": {}
      },
      "source": [
        "fig = plt.figure"
      ],
      "execution_count": 0,
      "outputs": []
    },
    {
      "cell_type": "code",
      "metadata": {
        "id": "Bx53tB5KfJZF",
        "colab_type": "code",
        "outputId": "2a316915-3efc-4aa5-a36a-2ae8635c4c81",
        "colab": {
          "base_uri": "https://localhost:8080/",
          "height": 265
        }
      },
      "source": [
        "plt.imshow(train_images[1], cmap='gray')\n",
        "plt.show()"
      ],
      "execution_count": 6,
      "outputs": [
        {
          "output_type": "display_data",
          "data": {
            "image/png": "[encoded data removed]",
            "text/plain": [
              "<Figure size 432x288 with 1 Axes>"
            ]
          },
          "metadata": {
            "tags": [],
            "needs_background": "light"
          }
        }
      ]
    },
    {
      "cell_type": "code",
      "metadata": {
        "id": "jtSTcaF6fOKA",
        "colab_type": "code",
        "colab": {}
      },
      "source": [
        "train_images = train_images[:1000].reshape(-1, 28*28) / 255.0\n",
        "test_images = test_images[:1000].reshape(-1, 28*28) / 255.0"
      ],
      "execution_count": 0,
      "outputs": []
    },
    {
      "cell_type": "code",
      "metadata": {
        "id": "EKWxJjusgGLV",
        "colab_type": "code",
        "outputId": "424a847d-f34b-4214-b910-2fbfea875d21",
        "colab": {
          "base_uri": "https://localhost:8080/",
          "height": 34
        }
      },
      "source": [
        "train_images[1].shape"
      ],
      "execution_count": 8,
      "outputs": [
        {
          "output_type": "execute_result",
          "data": {
            "text/plain": [
              "(784,)"
            ]
          },
          "metadata": {
            "tags": []
          },
          "execution_count": 8
        }
      ]
    },
    {
      "cell_type": "markdown",
      "metadata": {
        "id": "C4leAhfqgUWZ",
        "colab_type": "text"
      },
      "source": [
        "## 3. Define a model\n"
      ]
    },
    {
      "cell_type": "code",
      "metadata": {
        "id": "2ZJSXHQzgHzS",
        "colab_type": "code",
        "colab": {}
      },
      "source": [
        "def create_model():\n",
        "  model = tf.keras.models.Sequential([\n",
        "      keras.layers.Dense(512, activation='relu', input_shape = (784,)),\n",
        "      keras.layers.Dropout(0.2),\n",
        "      keras.layers.Dense(10)\n",
        "  ])\n",
        "\n",
        "  model.compile(optimizer='adam', loss= tf.losses.SparseCategoricalCrossentropy(from_logits=True), metrics=['accuracy'])\n",
        "  return model"
      ],
      "execution_count": 0,
      "outputs": []
    },
    {
      "cell_type": "code",
      "metadata": {
        "id": "Jz5fQAtdhHzs",
        "colab_type": "code",
        "outputId": "592f92fd-38c1-40ab-b7d5-f63a6951b7fb",
        "colab": {
          "base_uri": "https://localhost:8080/",
          "height": 260
        }
      },
      "source": [
        "model = create_model()\n",
        "model.summary()"
      ],
      "execution_count": 10,
      "outputs": [
        {
          "output_type": "stream",
          "text": [
            "Model: \"sequential\"\n",
            "_________________________________________________________________\n",
            "Layer (type)                 Output Shape              Param #   \n",
            "=================================================================\n",
            "dense (Dense)                (None, 512)               401920    \n",
            "_________________________________________________________________\n",
            "dropout (Dropout)            (None, 512)               0         \n",
            "_________________________________________________________________\n",
            "dense_1 (Dense)              (None, 10)                5130      \n",
            "=================================================================\n",
            "Total params: 407,050\n",
            "Trainable params: 407,050\n",
            "Non-trainable params: 0\n",
            "_________________________________________________________________\n"
          ],
          "name": "stdout"
        }
      ]
    },
    {
      "cell_type": "markdown",
      "metadata": {
        "id": "IcSU3GOThYHF",
        "colab_type": "text"
      },
      "source": [
        "## 4. Save checkpoints during training\n",
        "\n",
        "### Checkpoint callback usage"
      ]
    },
    {
      "cell_type": "code",
      "metadata": {
        "id": "TAkYbrXbhLcP",
        "colab_type": "code",
        "outputId": "c3a7f1ba-e46a-438e-8d7a-ef7dd2e8447b",
        "colab": {
          "base_uri": "https://localhost:8080/",
          "height": 749
        }
      },
      "source": [
        "checkpoint_path = \"training_1/cp.ckpt\"\n",
        "checkpoing_dir = os.path.dirname(checkpoint_path)\n",
        "\n",
        "#Create a callback that saves the model's weights\n",
        "cp_callback = tf.keras.callbacks.ModelCheckpoint(filepath=checkpoint_path, save_weights_only=True, verbose=1)\n",
        "\n",
        "#Train the model with new callback\n",
        "model.fit(train_images, train_labels, epochs=10, validation_data=(test_images, test_labels), callbacks=[cp_callback])\n"
      ],
      "execution_count": 11,
      "outputs": [
        {
          "output_type": "stream",
          "text": [
            "Epoch 1/10\n",
            "29/32 [==========================>...] - ETA: 0s - loss: 1.2147 - accuracy: 0.6627\n",
            "Epoch 00001: saving model to training_1/cp.ckpt\n",
            "32/32 [==============================] - 0s 14ms/step - loss: 1.1734 - accuracy: 0.6760 - val_loss: 0.7041 - val_accuracy: 0.7830\n",
            "Epoch 2/10\n",
            "29/32 [==========================>...] - ETA: 0s - loss: 0.4171 - accuracy: 0.8804\n",
            "Epoch 00002: saving model to training_1/cp.ckpt\n",
            "32/32 [==============================] - 0s 7ms/step - loss: 0.4143 - accuracy: 0.8820 - val_loss: 0.5346 - val_accuracy: 0.8430\n",
            "Epoch 3/10\n",
            "29/32 [==========================>...] - ETA: 0s - loss: 0.2866 - accuracy: 0.9256\n",
            "Epoch 00003: saving model to training_1/cp.ckpt\n",
            "32/32 [==============================] - 0s 7ms/step - loss: 0.2864 - accuracy: 0.9260 - val_loss: 0.4577 - val_accuracy: 0.8560\n",
            "Epoch 4/10\n",
            "28/32 [=========================>....] - ETA: 0s - loss: 0.1959 - accuracy: 0.9531\n",
            "Epoch 00004: saving model to training_1/cp.ckpt\n",
            "32/32 [==============================] - 0s 7ms/step - loss: 0.1933 - accuracy: 0.9540 - val_loss: 0.4349 - val_accuracy: 0.8630\n",
            "Epoch 5/10\n",
            "27/32 [========================>.....] - ETA: 0s - loss: 0.1579 - accuracy: 0.9641\n",
            "Epoch 00005: saving model to training_1/cp.ckpt\n",
            "32/32 [==============================] - 0s 7ms/step - loss: 0.1555 - accuracy: 0.9660 - val_loss: 0.4239 - val_accuracy: 0.8670\n",
            "Epoch 6/10\n",
            "29/32 [==========================>...] - ETA: 0s - loss: 0.1128 - accuracy: 0.9806\n",
            "Epoch 00006: saving model to training_1/cp.ckpt\n",
            "32/32 [==============================] - 0s 7ms/step - loss: 0.1135 - accuracy: 0.9790 - val_loss: 0.4247 - val_accuracy: 0.8650\n",
            "Epoch 7/10\n",
            "29/32 [==========================>...] - ETA: 0s - loss: 0.0818 - accuracy: 0.9871\n",
            "Epoch 00007: saving model to training_1/cp.ckpt\n",
            "32/32 [==============================] - 0s 7ms/step - loss: 0.0829 - accuracy: 0.9870 - val_loss: 0.4387 - val_accuracy: 0.8560\n",
            "Epoch 8/10\n",
            "28/32 [=========================>....] - ETA: 0s - loss: 0.0658 - accuracy: 0.9922\n",
            "Epoch 00008: saving model to training_1/cp.ckpt\n",
            "32/32 [==============================] - 0s 7ms/step - loss: 0.0660 - accuracy: 0.9930 - val_loss: 0.4118 - val_accuracy: 0.8690\n",
            "Epoch 9/10\n",
            "30/32 [===========================>..] - ETA: 0s - loss: 0.0505 - accuracy: 0.9990\n",
            "Epoch 00009: saving model to training_1/cp.ckpt\n",
            "32/32 [==============================] - 0s 7ms/step - loss: 0.0502 - accuracy: 0.9990 - val_loss: 0.4146 - val_accuracy: 0.8640\n",
            "Epoch 10/10\n",
            "30/32 [===========================>..] - ETA: 0s - loss: 0.0406 - accuracy: 0.9979\n",
            "Epoch 00010: saving model to training_1/cp.ckpt\n",
            "32/32 [==============================] - 0s 7ms/step - loss: 0.0403 - accuracy: 0.9980 - val_loss: 0.4175 - val_accuracy: 0.8620\n"
          ],
          "name": "stdout"
        },
        {
          "output_type": "execute_result",
          "data": {
            "text/plain": [
              "<tensorflow.python.keras.callbacks.History at 0x7f49ad7195f8>"
            ]
          },
          "metadata": {
            "tags": []
          },
          "execution_count": 11
        }
      ]
    },
    {
      "cell_type": "code",
      "metadata": {
        "id": "JKyMkdbtkmVf",
        "colab_type": "code",
        "outputId": "e82a78a6-32c3-4b1f-b13e-90c9fe211930",
        "colab": {
          "base_uri": "https://localhost:8080/",
          "height": 34
        }
      },
      "source": [
        "ls {checkpoing_dir}"
      ],
      "execution_count": 12,
      "outputs": [
        {
          "output_type": "stream",
          "text": [
            "checkpoint  cp.ckpt.data-00000-of-00001  cp.ckpt.index\n"
          ],
          "name": "stdout"
        }
      ]
    },
    {
      "cell_type": "markdown",
      "metadata": {
        "id": "ggCGUIoDk24o",
        "colab_type": "text"
      },
      "source": [
        "Create a new, untrained model. When restoring a model from weights-only, you must have a model with the same architecture as the original model. Since it's the same model architecture, you can share weights despite that it's a different instance of the model\n",
        "\n",
        "Now rebuild a fresh, untrained model and evaluate it on the test set. An untrained model will perform at chance levels (~10% accuracy)"
      ]
    },
    {
      "cell_type": "code",
      "metadata": {
        "id": "IVJYLN5bkvZf",
        "colab_type": "code",
        "outputId": "70222add-0daf-4546-a7f9-76fd4c4e8893",
        "colab": {
          "base_uri": "https://localhost:8080/",
          "height": 52
        }
      },
      "source": [
        "#Create a basic instance\n",
        "model = create_model()\n",
        "loss, acc = model.evaluate(test_images, test_labels, verbose=2)\n",
        "print(\"Untrained model, accuracy: {:5.2f}%\".format(100*acc))"
      ],
      "execution_count": 13,
      "outputs": [
        {
          "output_type": "stream",
          "text": [
            "32/32 - 0s - loss: 2.2818 - accuracy: 0.1590\n",
            "Untrained model, accuracy: 15.90%\n"
          ],
          "name": "stdout"
        }
      ]
    },
    {
      "cell_type": "code",
      "metadata": {
        "id": "r4-PnMf_ltHT",
        "colab_type": "code",
        "outputId": "1e841f48-9985-443e-d775-57cacfcfffce",
        "colab": {
          "base_uri": "https://localhost:8080/",
          "height": 34
        }
      },
      "source": [
        "model.load_weights(checkpoint_path)\n",
        "loss, acc = model.evaluate(test_images, test_labels, verbose=2)"
      ],
      "execution_count": 14,
      "outputs": [
        {
          "output_type": "stream",
          "text": [
            "32/32 - 0s - loss: 0.4175 - accuracy: 0.8620\n"
          ],
          "name": "stdout"
        }
      ]
    },
    {
      "cell_type": "markdown",
      "metadata": {
        "id": "BKyp29ej7fRI",
        "colab_type": "text"
      },
      "source": [
        "### Checkpoint callback options\n",
        "the callback provide several options to provide unique names for checkpoints and adjust the checkpointing frequency\n",
        "\n",
        "Train a new model, and save uniquely name checkpoints once every five epochs"
      ]
    },
    {
      "cell_type": "code",
      "metadata": {
        "id": "ZeB7KUBx7gKI",
        "colab_type": "code",
        "colab": {
          "base_uri": "https://localhost:8080/",
          "height": 419
        },
        "outputId": "4abffacc-55f6-4e0c-8bf7-6c7bc92d5eb8"
      },
      "source": [
        "checkpoint_path = \"training_2/cp-{epoch:04d}.ckpt\"\n",
        "checkpoing_dir = os.path.dirname(checkpoint_path)\n",
        "\n",
        "cp_callback = tf.keras.callbacks.ModelCheckpoint(\n",
        "    checkpoint_path, verbose = 1, save_weights_only = True, period = 5\n",
        ")\n",
        "\n",
        "model = create_model()\n",
        "\n",
        "model.save_weights(checkpoint_path.format(epoch=0))\n",
        "model.fit(train_images, train_labels,epochs=50, callbacks=[cp_callback], validation_data=(test_images, test_labels), verbose=0)"
      ],
      "execution_count": 15,
      "outputs": [
        {
          "output_type": "stream",
          "text": [
            "WARNING:tensorflow:`period` argument is deprecated. Please use `save_freq` to specify the frequency in number of batches seen.\n",
            "\n",
            "Epoch 00005: saving model to training_2/cp-0005.ckpt\n",
            "\n",
            "Epoch 00010: saving model to training_2/cp-0010.ckpt\n",
            "\n",
            "Epoch 00015: saving model to training_2/cp-0015.ckpt\n",
            "\n",
            "Epoch 00020: saving model to training_2/cp-0020.ckpt\n",
            "\n",
            "Epoch 00025: saving model to training_2/cp-0025.ckpt\n",
            "\n",
            "Epoch 00030: saving model to training_2/cp-0030.ckpt\n",
            "\n",
            "Epoch 00035: saving model to training_2/cp-0035.ckpt\n",
            "\n",
            "Epoch 00040: saving model to training_2/cp-0040.ckpt\n",
            "\n",
            "Epoch 00045: saving model to training_2/cp-0045.ckpt\n",
            "\n",
            "Epoch 00050: saving model to training_2/cp-0050.ckpt\n"
          ],
          "name": "stdout"
        },
        {
          "output_type": "execute_result",
          "data": {
            "text/plain": [
              "<tensorflow.python.keras.callbacks.History at 0x7f49aa07a2e8>"
            ]
          },
          "metadata": {
            "tags": []
          },
          "execution_count": 15
        }
      ]
    },
    {
      "cell_type": "code",
      "metadata": {
        "id": "xHZZ-0b37gNG",
        "colab_type": "code",
        "colab": {
          "base_uri": "https://localhost:8080/",
          "height": 660
        },
        "outputId": "d8a6098a-ffda-4526-a4d2-aba2931120ae"
      },
      "source": [
        "%ls {checkpoing_dir}"
      ],
      "execution_count": 17,
      "outputs": [
        {
          "output_type": "stream",
          "text": [
            "checkpoint                        cp-0025.ckpt.data-00000-of-00001\n",
            "\u001b[0m\u001b[01;34mcp-0000\u001b[0m/                          cp-0025.ckpt.index\n",
            "cp-0000.ckpt.data-00000-of-00001  \u001b[01;34mcp-0026\u001b[0m/\n",
            "cp-0000.ckpt.index                \u001b[01;34mcp-0027\u001b[0m/\n",
            "\u001b[01;34mcp-0001\u001b[0m/                          \u001b[01;34mcp-0028\u001b[0m/\n",
            "\u001b[01;34mcp-0002\u001b[0m/                          \u001b[01;34mcp-0029\u001b[0m/\n",
            "\u001b[01;34mcp-0003\u001b[0m/                          \u001b[01;34mcp-0030\u001b[0m/\n",
            "\u001b[01;34mcp-0004\u001b[0m/                          cp-0030.ckpt.data-00000-of-00001\n",
            "\u001b[01;34mcp-0005\u001b[0m/                          cp-0030.ckpt.index\n",
            "cp-0005.ckpt.data-00000-of-00001  \u001b[01;34mcp-0031\u001b[0m/\n",
            "cp-0005.ckpt.index                \u001b[01;34mcp-0032\u001b[0m/\n",
            "\u001b[01;34mcp-0006\u001b[0m/                          \u001b[01;34mcp-0033\u001b[0m/\n",
            "\u001b[01;34mcp-0007\u001b[0m/                          \u001b[01;34mcp-0034\u001b[0m/\n",
            "\u001b[01;34mcp-0008\u001b[0m/                          \u001b[01;34mcp-0035\u001b[0m/\n",
            "\u001b[01;34mcp-0009\u001b[0m/                          cp-0035.ckpt.data-00000-of-00001\n",
            "\u001b[01;34mcp-0010\u001b[0m/                          cp-0035.ckpt.index\n",
            "cp-0010.ckpt.data-00000-of-00001  \u001b[01;34mcp-0036\u001b[0m/\n",
            "cp-0010.ckpt.index                \u001b[01;34mcp-0037\u001b[0m/\n",
            "\u001b[01;34mcp-0011\u001b[0m/                          \u001b[01;34mcp-0038\u001b[0m/\n",
            "\u001b[01;34mcp-0012\u001b[0m/                          \u001b[01;34mcp-0039\u001b[0m/\n",
            "\u001b[01;34mcp-0013\u001b[0m/                          \u001b[01;34mcp-0040\u001b[0m/\n",
            "\u001b[01;34mcp-0014\u001b[0m/                          cp-0040.ckpt.data-00000-of-00001\n",
            "\u001b[01;34mcp-0015\u001b[0m/                          cp-0040.ckpt.index\n",
            "cp-0015.ckpt.data-00000-of-00001  \u001b[01;34mcp-0041\u001b[0m/\n",
            "cp-0015.ckpt.index                \u001b[01;34mcp-0042\u001b[0m/\n",
            "\u001b[01;34mcp-0016\u001b[0m/                          \u001b[01;34mcp-0043\u001b[0m/\n",
            "\u001b[01;34mcp-0017\u001b[0m/                          \u001b[01;34mcp-0044\u001b[0m/\n",
            "\u001b[01;34mcp-0018\u001b[0m/                          \u001b[01;34mcp-0045\u001b[0m/\n",
            "\u001b[01;34mcp-0019\u001b[0m/                          cp-0045.ckpt.data-00000-of-00001\n",
            "\u001b[01;34mcp-0020\u001b[0m/                          cp-0045.ckpt.index\n",
            "cp-0020.ckpt.data-00000-of-00001  \u001b[01;34mcp-0046\u001b[0m/\n",
            "cp-0020.ckpt.index                \u001b[01;34mcp-0047\u001b[0m/\n",
            "\u001b[01;34mcp-0021\u001b[0m/                          \u001b[01;34mcp-0048\u001b[0m/\n",
            "\u001b[01;34mcp-0022\u001b[0m/                          \u001b[01;34mcp-0049\u001b[0m/\n",
            "\u001b[01;34mcp-0023\u001b[0m/                          \u001b[01;34mcp-0050\u001b[0m/\n",
            "\u001b[01;34mcp-0024\u001b[0m/                          cp-0050.ckpt.data-00000-of-00001\n",
            "\u001b[01;34mcp-0025\u001b[0m/                          cp-0050.ckpt.index\n"
          ],
          "name": "stdout"
        }
      ]
    },
    {
      "cell_type": "code",
      "metadata": {
        "id": "0bg4xoJI7gPp",
        "colab_type": "code",
        "colab": {}
      },
      "source": [
        "latest = tf.train.latest_checkpoint(checkpoing_dir)"
      ],
      "execution_count": 0,
      "outputs": []
    },
    {
      "cell_type": "code",
      "metadata": {
        "id": "jGHP6RVW7gSY",
        "colab_type": "code",
        "colab": {
          "base_uri": "https://localhost:8080/",
          "height": 34
        },
        "outputId": "f9cec808-670e-40c9-aafe-d09be331a014"
      },
      "source": [
        "latest"
      ],
      "execution_count": 19,
      "outputs": [
        {
          "output_type": "execute_result",
          "data": {
            "text/plain": [
              "'training_2/cp-0050.ckpt'"
            ]
          },
          "metadata": {
            "tags": []
          },
          "execution_count": 19
        }
      ]
    },
    {
      "cell_type": "code",
      "metadata": {
        "id": "ATOwTuU17gVE",
        "colab_type": "code",
        "colab": {
          "base_uri": "https://localhost:8080/",
          "height": 34
        },
        "outputId": "f5b695ef-514d-4ef3-c508-cf90faea5500"
      },
      "source": [
        "model = create_model()\n",
        "model.load_weights(latest)\n",
        "loss, acc = model.evaluate(test_images, test_labels, verbose=1)"
      ],
      "execution_count": 20,
      "outputs": [
        {
          "output_type": "stream",
          "text": [
            "32/32 [==============================] - 0s 2ms/step - loss: 0.4833 - accuracy: 0.8790\n"
          ],
          "name": "stdout"
        }
      ]
    },
    {
      "cell_type": "markdown",
      "metadata": {
        "id": "CdJzco6fP5BF",
        "colab_type": "text"
      },
      "source": [
        "## Checkpoints contain:\n",
        "- One or more shards that contain your model weights\n",
        "- An index file that indicates which weights are stored in a which shard"
      ]
    },
    {
      "cell_type": "markdown",
      "metadata": {
        "id": "lYDlCLWn6AhW",
        "colab_type": "text"
      },
      "source": [
        "## 5. Manually save weights\n",
        "Manually saving the weights into a model is just as simple with the Model.save_weights method\n",
        "By default, tf.keras and save_weights in particular uses the Tensorflow checkpoint format with a .ckpt extension (saving in HDF5 with .h5 extension is covered in the [Save and serialize models guide](https://www.tensorflow.org/guide/keras/save_and_serialize#weights_only_saving_in_savedmodel_format)"
      ]
    },
    {
      "cell_type": "code",
      "metadata": {
        "id": "v5BIFajZmGmJ",
        "colab_type": "code",
        "colab": {
          "base_uri": "https://localhost:8080/",
          "height": 34
        },
        "outputId": "03b1d77d-1dd9-4d6c-830d-3d862716a46f"
      },
      "source": [
        "#save the weights\n",
        "model.save_weights('./checkpoints/my_checkpoint')\n",
        "\n",
        "#Create a new model instance\n",
        "model = create_model()\n",
        "\n",
        "#Restore the weights\n",
        "model.load_weights('./checkpoints/my_checkpoint')"
      ],
      "execution_count": 15,
      "outputs": [
        {
          "output_type": "execute_result",
          "data": {
            "text/plain": [
              "<tensorflow.python.training.tracking.util.CheckpointLoadStatus at 0x7fc126af5358>"
            ]
          },
          "metadata": {
            "tags": []
          },
          "execution_count": 15
        }
      ]
    },
    {
      "cell_type": "markdown",
      "metadata": {
        "id": "APewZMGY_DpG",
        "colab_type": "text"
      },
      "source": [
        "## 6. Save the entire model\n",
        "\n",
        "Call model.save to save a model's architecture, weights, and training configuration in a single file/folder.\n",
        "\n",
        "Entire model can be saved in two different file formats (SavedModel and HDF5). It is to be noted that Tensorflow SavedModel format is the default file format in TF2.x. However, model can be saved in HDF5 format. Saving a fully- functional model is very usefull- you can load them in Tensorflow.js (SavedModel, HDF5) and then train and run them in web browsers or convert them to run on mobile devices using Tensorflow Lite(SavedModel, HDF5)"
      ]
    },
    {
      "cell_type": "markdown",
      "metadata": {
        "id": "Vi4d5fjHDSJY",
        "colab_type": "text"
      },
      "source": [
        "### SavedModel format\n",
        "\n",
        "the SavedModel format is another way to serialize models. Models saved in this format can be restored using tf.keras.models.load_model and ar compatible with Tensorflow Serving. The SavedModel guide goes into detail about how to serve/inspect the SavedModel."
      ]
    },
    {
      "cell_type": "code",
      "metadata": {
        "id": "e0JqPnAL7L3Z",
        "colab_type": "code",
        "colab": {
          "base_uri": "https://localhost:8080/",
          "height": 208
        },
        "outputId": "7d5a5307-a6e9-4ac8-d794-88239ce073cf"
      },
      "source": [
        "model = create_model()\n",
        "model.fit(train_images, train_labels, epochs= 5)"
      ],
      "execution_count": 21,
      "outputs": [
        {
          "output_type": "stream",
          "text": [
            "Epoch 1/5\n",
            "32/32 [==============================] - 0s 4ms/step - loss: 1.1819 - accuracy: 0.6530\n",
            "Epoch 2/5\n",
            "32/32 [==============================] - 0s 4ms/step - loss: 0.4442 - accuracy: 0.8760\n",
            "Epoch 3/5\n",
            "32/32 [==============================] - 0s 4ms/step - loss: 0.2981 - accuracy: 0.9250\n",
            "Epoch 4/5\n",
            "32/32 [==============================] - 0s 4ms/step - loss: 0.2174 - accuracy: 0.9430\n",
            "Epoch 5/5\n",
            "32/32 [==============================] - 0s 4ms/step - loss: 0.1479 - accuracy: 0.9700\n"
          ],
          "name": "stdout"
        },
        {
          "output_type": "execute_result",
          "data": {
            "text/plain": [
              "<tensorflow.python.keras.callbacks.History at 0x7f49ac468208>"
            ]
          },
          "metadata": {
            "tags": []
          },
          "execution_count": 21
        }
      ]
    },
    {
      "cell_type": "code",
      "metadata": {
        "id": "cgRvw6QZDzYt",
        "colab_type": "code",
        "colab": {
          "base_uri": "https://localhost:8080/",
          "height": 106
        },
        "outputId": "86bc63bc-04c9-430a-a177-e18646bcbe49"
      },
      "source": [
        "!mkdir -p saved_model\n",
        "model.save('saved_model/my_model')"
      ],
      "execution_count": 23,
      "outputs": [
        {
          "output_type": "stream",
          "text": [
            "WARNING:tensorflow:From /usr/local/lib/python3.6/dist-packages/tensorflow/python/ops/resource_variable_ops.py:1817: calling BaseResourceVariable.__init__ (from tensorflow.python.ops.resource_variable_ops) with constraint is deprecated and will be removed in a future version.\n",
            "Instructions for updating:\n",
            "If using Keras pass *_constraint arguments to layers.\n",
            "INFO:tensorflow:Assets written to: saved_model/my_model/assets\n"
          ],
          "name": "stdout"
        }
      ]
    },
    {
      "cell_type": "code",
      "metadata": {
        "id": "g2hi3RLzD7qx",
        "colab_type": "code",
        "colab": {
          "base_uri": "https://localhost:8080/",
          "height": 34
        },
        "outputId": "e5f9e2bd-6a2f-48fd-b0d1-d466c43a8dfc"
      },
      "source": [
        "!ls saved_model/my_model"
      ],
      "execution_count": 25,
      "outputs": [
        {
          "output_type": "stream",
          "text": [
            "assets\tsaved_model.pb\tvariables\n"
          ],
          "name": "stdout"
        }
      ]
    },
    {
      "cell_type": "markdown",
      "metadata": {
        "id": "uqtRaywNEO6y",
        "colab_type": "text"
      },
      "source": [
        "Reload a fresh Keras model from the saved model:"
      ]
    },
    {
      "cell_type": "code",
      "metadata": {
        "id": "qcmwfg8LEHAL",
        "colab_type": "code",
        "colab": {
          "base_uri": "https://localhost:8080/",
          "height": 260
        },
        "outputId": "efb0ab97-d6ef-44ac-95f1-7056fb0c272f"
      },
      "source": [
        "new_model = tf.keras.models.load_model('saved_model/my_model')\n",
        "new_model.summary()"
      ],
      "execution_count": 27,
      "outputs": [
        {
          "output_type": "stream",
          "text": [
            "Model: \"sequential_4\"\n",
            "_________________________________________________________________\n",
            "Layer (type)                 Output Shape              Param #   \n",
            "=================================================================\n",
            "dense_8 (Dense)              (None, 512)               401920    \n",
            "_________________________________________________________________\n",
            "dropout_4 (Dropout)          (None, 512)               0         \n",
            "_________________________________________________________________\n",
            "dense_9 (Dense)              (None, 10)                5130      \n",
            "=================================================================\n",
            "Total params: 407,050\n",
            "Trainable params: 407,050\n",
            "Non-trainable params: 0\n",
            "_________________________________________________________________\n"
          ],
          "name": "stdout"
        }
      ]
    },
    {
      "cell_type": "code",
      "metadata": {
        "id": "xxq26RslEY_7",
        "colab_type": "code",
        "colab": {
          "base_uri": "https://localhost:8080/",
          "height": 34
        },
        "outputId": "ad6a17f5-0ee0-46db-da66-d02769c46095"
      },
      "source": [
        "loss, acc = new_model.evaluate(test_images, test_labels, verbose= 2)"
      ],
      "execution_count": 28,
      "outputs": [
        {
          "output_type": "stream",
          "text": [
            "32/32 - 0s - loss: 0.4102 - accuracy: 0.8740\n"
          ],
          "name": "stdout"
        }
      ]
    },
    {
      "cell_type": "markdown",
      "metadata": {
        "id": "OM2oMTZDEmMU",
        "colab_type": "text"
      },
      "source": [
        "### HDF5 format\n",
        "Keras provide a basic save format using the HDF5 standard"
      ]
    },
    {
      "cell_type": "code",
      "metadata": {
        "id": "InLh72LpEh9L",
        "colab_type": "code",
        "colab": {
          "base_uri": "https://localhost:8080/",
          "height": 191
        },
        "outputId": "0e6829d2-52a7-473f-df9c-bee7d1ecc25d"
      },
      "source": [
        "#Create and train a new model instance\n",
        "model = create_model()\n",
        "model.fit(train_images, train_labels, epochs=5)\n",
        "model.save('my_model.h5')"
      ],
      "execution_count": 30,
      "outputs": [
        {
          "output_type": "stream",
          "text": [
            "Epoch 1/5\n",
            "32/32 [==============================] - 0s 4ms/step - loss: 1.1645 - accuracy: 0.6940\n",
            "Epoch 2/5\n",
            "32/32 [==============================] - 0s 3ms/step - loss: 0.4306 - accuracy: 0.8710\n",
            "Epoch 3/5\n",
            "32/32 [==============================] - 0s 3ms/step - loss: 0.2818 - accuracy: 0.9300\n",
            "Epoch 4/5\n",
            "32/32 [==============================] - 0s 3ms/step - loss: 0.2110 - accuracy: 0.9480\n",
            "Epoch 5/5\n",
            "32/32 [==============================] - 0s 4ms/step - loss: 0.1525 - accuracy: 0.9680\n"
          ],
          "name": "stdout"
        }
      ]
    },
    {
      "cell_type": "code",
      "metadata": {
        "id": "PCKH_42sE0uU",
        "colab_type": "code",
        "colab": {
          "base_uri": "https://localhost:8080/",
          "height": 260
        },
        "outputId": "e525d495-23e6-4ebd-893c-7a0142d8c004"
      },
      "source": [
        "new_model = tf.keras.models.load_model('my_model.h5')\n",
        "new_model.summary()"
      ],
      "execution_count": 31,
      "outputs": [
        {
          "output_type": "stream",
          "text": [
            "Model: \"sequential_6\"\n",
            "_________________________________________________________________\n",
            "Layer (type)                 Output Shape              Param #   \n",
            "=================================================================\n",
            "dense_12 (Dense)             (None, 512)               401920    \n",
            "_________________________________________________________________\n",
            "dropout_6 (Dropout)          (None, 512)               0         \n",
            "_________________________________________________________________\n",
            "dense_13 (Dense)             (None, 10)                5130      \n",
            "=================================================================\n",
            "Total params: 407,050\n",
            "Trainable params: 407,050\n",
            "Non-trainable params: 0\n",
            "_________________________________________________________________\n"
          ],
          "name": "stdout"
        }
      ]
    },
    {
      "cell_type": "code",
      "metadata": {
        "id": "K4u7JpyaFJ5T",
        "colab_type": "code",
        "colab": {
          "base_uri": "https://localhost:8080/",
          "height": 52
        },
        "outputId": "4c518ed6-2e0f-4e92-e5b3-4b4d222101e4"
      },
      "source": [
        "loss, acc = new_model.evaluate(test_images,  test_labels, verbose=2)\n",
        "print('Restored model, accuracy: {:5.2f}%'.format(100*acc))\n"
      ],
      "execution_count": 32,
      "outputs": [
        {
          "output_type": "stream",
          "text": [
            "32/32 - 0s - loss: 0.4564 - accuracy: 0.8440\n",
            "Restored model, accuracy: 84.40%\n"
          ],
          "name": "stdout"
        }
      ]
    },
    {
      "cell_type": "markdown",
      "metadata": {
        "id": "OLy3fE0uFQqm",
        "colab_type": "text"
      },
      "source": [
        "Keras saves models by inspecting the architecture. This technique saves everything:\n",
        "- The weight values\n",
        "- The model's architecture\n",
        "- The model's training configuration (what you passed to compile)\n",
        "- The optimizer and its state, if any (this enables you to restart training where you left)\n",
        "\n",
        "Keras is not able to save v1.x optimizers (from tf.compat.v1.train) since they aren't compatible with checkpoints. For v1.x optimizers, you need to recompile the model after loading-losing the state of the optimizer\n",
        "\n"
      ]
    },
    {
      "cell_type": "markdown",
      "metadata": {
        "id": "OZ-i8y9VF60x",
        "colab_type": "text"
      },
      "source": [
        "### Saving custom objects\n",
        "If you are using the SavedModel format, you can skip this section. The key difference between HDF5 and SavedModel is that HDF5 uses object configs to save the model architecture, while SavedModel saves the execution graph. Thus, SavedModel are able to save custom object like subclassed models and custom layers without requiring the original code.\n",
        "\n"
      ]
    },
    {
      "cell_type": "markdown",
      "metadata": {
        "id": "5CBl6akZGzBP",
        "colab_type": "text"
      },
      "source": [
        "#\n",
        "# Copyright (c) 2017 François Chollet\n",
        "#\n",
        "# Permission is hereby granted, free of charge, to any person obtaining a\n",
        "# copy of this software and associated documentation files (the \"Software\"),\n",
        "# to deal in the Software without restriction, including without limitation\n",
        "# the rights to use, copy, modify, merge, publish, distribute, sublicense,\n",
        "# and/or sell copies of the Software, and to permit persons to whom the\n",
        "# Software is furnished to do so, subject to the following conditions:\n",
        "#\n",
        "# The above copyright notice and this permission notice shall be included in\n",
        "# all copies or substantial portions of the Software.\n",
        "#\n",
        "# THE SOFTWARE IS PROVIDED \"AS IS\", WITHOUT WARRANTY OF ANY KIND, EXPRESS OR\n",
        "# IMPLIED, INCLUDING BUT NOT LIMITED TO THE WARRANTIES OF MERCHANTABILITY,\n",
        "# FITNESS FOR A PARTICULAR PURPOSE AND NONINFRINGEMENT. IN NO EVENT SHALL\n",
        "# THE AUTHORS OR COPYRIGHT HOLDERS BE LIABLE FOR ANY CLAIM, DAMAGES OR OTHER\n",
        "# LIABILITY, WHETHER IN AN ACTION OF CONTRACT, TORT OR OTHERWISE, ARISING\n",
        "# FROM, OUT OF OR IN CONNECTION WITH THE SOFTWARE OR THE USE OR OTHER\n",
        "# DEALINGS IN THE SOFTWARE.\n"
      ]
    },
    {
      "cell_type": "code",
      "metadata": {
        "id": "VQdzknx0FMKI",
        "colab_type": "code",
        "colab": {}
      },
      "source": [
        ""
      ],
      "execution_count": 0,
      "outputs": []
    }
  ]
}