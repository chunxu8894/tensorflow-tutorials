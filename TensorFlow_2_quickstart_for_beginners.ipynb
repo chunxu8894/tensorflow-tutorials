{
  "nbformat": 4,
  "nbformat_minor": 0,
  "metadata": {
    "colab": {
      "name": "TensorFlow 2 quickstart for beginners.ipynb",
      "provenance": [],
      "collapsed_sections": [],
      "authorship_tag": "ABX9TyNZ9uGGEVPXfRdAj0mLzp22",
      "include_colab_link": true
    },
    "kernelspec": {
      "name": "python3",
      "display_name": "Python 3"
    }
  },
  "cells": [
    {
      "cell_type": "markdown",
      "metadata": {
        "id": "view-in-github",
        "colab_type": "text"
      },
      "source": [
        "<a href=\"https://colab.research.google.com/github/chunxu8894/tensorflow-tutorials/blob/master/TensorFlow_2_quickstart_for_beginners.ipynb\" target=\"_parent\"><img src=\"https://colab.research.google.com/assets/colab-badge.svg\" alt=\"Open In Colab\"/></a>"
      ]
    },
    {
      "cell_type": "markdown",
      "metadata": {
        "id": "z7GFjQm33Y1l",
        "colab_type": "text"
      },
      "source": [
        "This tutorial is going to introduce how to use tensorflow to:\n",
        "\n",
        "\n",
        "1.   Build a neural network that classifies images\n",
        "2.   Train this neural network\n",
        "3.   Evaluate the accuracy of the model\n",
        "\n"
      ]
    },
    {
      "cell_type": "code",
      "metadata": {
        "id": "-Pm9_5KX3tec",
        "colab_type": "code",
        "colab": {}
      },
      "source": [
        "import tensorflow as tf"
      ],
      "execution_count": 0,
      "outputs": []
    },
    {
      "cell_type": "code",
      "metadata": {
        "id": "ISg-hZMV3x5m",
        "colab_type": "code",
        "colab": {
          "base_uri": "https://localhost:8080/",
          "height": 35
        },
        "outputId": "fb7ec1c6-dae9-4a3a-ad7a-9c9031eb2d12"
      },
      "source": [
        "tf.__version__"
      ],
      "execution_count": 2,
      "outputs": [
        {
          "output_type": "execute_result",
          "data": {
            "text/plain": [
              "'2.2.0-rc2'"
            ]
          },
          "metadata": {
            "tags": []
          },
          "execution_count": 2
        }
      ]
    },
    {
      "cell_type": "markdown",
      "metadata": {
        "id": "DFxTTsvk37re",
        "colab_type": "text"
      },
      "source": [
        "# 1. Loading the Data"
      ]
    },
    {
      "cell_type": "code",
      "metadata": {
        "id": "3L6PMQaT3zpe",
        "colab_type": "code",
        "colab": {}
      },
      "source": [
        "# use the mnist dataset in keras\n",
        "mnist = tf.keras.datasets.mnist\n",
        "\n",
        "#split the dataset into 2 tuple\n",
        "(x_train, y_train), (x_test, y_test)= mnist.load_data()\n",
        "\n",
        "x_train, x_test = x_train/255.0, x_test/255.0\n"
      ],
      "execution_count": 0,
      "outputs": []
    },
    {
      "cell_type": "markdown",
      "metadata": {
        "id": "Yu528mTH5IyJ",
        "colab_type": "text"
      },
      "source": [
        "# 2. Build the model"
      ]
    },
    {
      "cell_type": "code",
      "metadata": {
        "id": "yd13fHeb5MG8",
        "colab_type": "code",
        "colab": {}
      },
      "source": [
        "model = tf.keras.models.Sequential([\n",
        "    tf.keras.layers.Flatten(input_shape=(28,28)),\n",
        "    tf.keras.layers.Dense(128, activation=\"relu\"),\n",
        "    tf.keras.layers.Dropout(0.2),\n",
        "    tf.keras.layers.Dense(10)]\n",
        ")"
      ],
      "execution_count": 0,
      "outputs": []
    },
    {
      "cell_type": "code",
      "metadata": {
        "id": "NH6A8DBN5321",
        "colab_type": "code",
        "colab": {
          "base_uri": "https://localhost:8080/",
          "height": 72
        },
        "outputId": "593995cf-05bd-471a-f0c9-b8aee1b87f36"
      },
      "source": [
        "predictions = model(x_train[:1]).numpy()\n",
        "predictions"
      ],
      "execution_count": 18,
      "outputs": [
        {
          "output_type": "execute_result",
          "data": {
            "text/plain": [
              "array([[-0.6101725 ,  0.17106853,  0.13894626, -0.22885898, -0.39672437,\n",
              "        -0.12095048,  0.02380684,  0.8679477 ,  0.17257324, -0.62045306]],\n",
              "      dtype=float32)"
            ]
          },
          "metadata": {
            "tags": []
          },
          "execution_count": 18
        }
      ]
    },
    {
      "cell_type": "code",
      "metadata": {
        "id": "mQaE43ac6FqI",
        "colab_type": "code",
        "colab": {
          "base_uri": "https://localhost:8080/",
          "height": 72
        },
        "outputId": "922e7016-7ebf-463a-caa5-2f3facc0a98b"
      },
      "source": [
        "tf.nn.softmax(predictions).numpy()"
      ],
      "execution_count": 21,
      "outputs": [
        {
          "output_type": "execute_result",
          "data": {
            "text/plain": [
              "array([[0.05241215, 0.11447764, 0.11085879, 0.07674222, 0.06488307,\n",
              "        0.08548667, 0.09880199, 0.22981133, 0.11465002, 0.05187609]],\n",
              "      dtype=float32)"
            ]
          },
          "metadata": {
            "tags": []
          },
          "execution_count": 21
        }
      ]
    },
    {
      "cell_type": "markdown",
      "metadata": {
        "id": "iPiVuCR-6ZPv",
        "colab_type": "text"
      },
      "source": [
        "# 3. Loss Function and Optimizer\n"
      ]
    },
    {
      "cell_type": "code",
      "metadata": {
        "id": "Y3f0fL8f6HJW",
        "colab_type": "code",
        "colab": {}
      },
      "source": [
        "loss_fn = tf.keras.losses.SparseCategoricalCrossentropy(from_logits=True)"
      ],
      "execution_count": 0,
      "outputs": []
    },
    {
      "cell_type": "code",
      "metadata": {
        "id": "w19BSFpM6ko1",
        "colab_type": "code",
        "colab": {
          "base_uri": "https://localhost:8080/",
          "height": 35
        },
        "outputId": "86cd6136-98d2-4e33-d134-165df05a6e00"
      },
      "source": [
        "loss_fn(y_train[:1], predictions).numpy()"
      ],
      "execution_count": 23,
      "outputs": [
        {
          "output_type": "execute_result",
          "data": {
            "text/plain": [
              "2.459395"
            ]
          },
          "metadata": {
            "tags": []
          },
          "execution_count": 23
        }
      ]
    },
    {
      "cell_type": "code",
      "metadata": {
        "id": "hp5lKV-L66U8",
        "colab_type": "code",
        "colab": {}
      },
      "source": [
        "model.compile(optimizer='adam', loss=loss_fn, metrics='accuracy') "
      ],
      "execution_count": 0,
      "outputs": []
    },
    {
      "cell_type": "code",
      "metadata": {
        "id": "k5EjhjYG7OD4",
        "colab_type": "code",
        "colab": {}
      },
      "source": [
        ""
      ],
      "execution_count": 0,
      "outputs": []
    },
    {
      "cell_type": "markdown",
      "metadata": {
        "id": "ziZpnGH-7OiM",
        "colab_type": "text"
      },
      "source": [
        "# 4. Fit Model\n"
      ]
    },
    {
      "cell_type": "code",
      "metadata": {
        "id": "w3YoRYOV7Q_o",
        "colab_type": "code",
        "colab": {
          "base_uri": "https://localhost:8080/",
          "height": 219
        },
        "outputId": "b9476184-def5-439c-b754-3964bf25d6ad"
      },
      "source": [
        "model.fit(x_train, y_train, epochs=5)"
      ],
      "execution_count": 25,
      "outputs": [
        {
          "output_type": "stream",
          "text": [
            "Epoch 1/5\n",
            "1875/1875 [==============================] - 4s 2ms/step - loss: 0.2917 - accuracy: 0.9139\n",
            "Epoch 2/5\n",
            "1875/1875 [==============================] - 4s 2ms/step - loss: 0.1449 - accuracy: 0.9569\n",
            "Epoch 3/5\n",
            "1875/1875 [==============================] - 4s 2ms/step - loss: 0.1092 - accuracy: 0.9678\n",
            "Epoch 4/5\n",
            "1875/1875 [==============================] - 4s 2ms/step - loss: 0.0890 - accuracy: 0.9725\n",
            "Epoch 5/5\n",
            "1875/1875 [==============================] - 4s 2ms/step - loss: 0.0760 - accuracy: 0.9764\n"
          ],
          "name": "stdout"
        },
        {
          "output_type": "execute_result",
          "data": {
            "text/plain": [
              "<tensorflow.python.keras.callbacks.History at 0x7f5cf1879320>"
            ]
          },
          "metadata": {
            "tags": []
          },
          "execution_count": 25
        }
      ]
    },
    {
      "cell_type": "markdown",
      "metadata": {
        "id": "UrYfYKXD7bBE",
        "colab_type": "text"
      },
      "source": [
        "# 5. Model evaluate"
      ]
    },
    {
      "cell_type": "code",
      "metadata": {
        "id": "d_uM6Jiq7UEw",
        "colab_type": "code",
        "colab": {
          "base_uri": "https://localhost:8080/",
          "height": 54
        },
        "outputId": "5626f590-f42f-4f25-a214-4873c99b94c9"
      },
      "source": [
        "model.evaluate(x_test, y_test, verbose=1)"
      ],
      "execution_count": 29,
      "outputs": [
        {
          "output_type": "stream",
          "text": [
            "313/313 [==============================] - 0s 1ms/step - loss: 0.0737 - accuracy: 0.9781\n"
          ],
          "name": "stdout"
        },
        {
          "output_type": "execute_result",
          "data": {
            "text/plain": [
              "[0.07373541593551636, 0.9781000018119812]"
            ]
          },
          "metadata": {
            "tags": []
          },
          "execution_count": 29
        }
      ]
    },
    {
      "cell_type": "markdown",
      "metadata": {
        "id": "t5pZF7T08DYf",
        "colab_type": "text"
      },
      "source": [
        "The Image classifier is now trained to ~ 98% accuracy on this dataset\n",
        "\n",
        "if you want your model to return a probability, you can wrap the trained model, and attach the softmax to it"
      ]
    },
    {
      "cell_type": "code",
      "metadata": {
        "id": "LYWl3f0e7si8",
        "colab_type": "code",
        "colab": {}
      },
      "source": [
        "probability_model = tf.keras.models.Sequential([\n",
        "    model, \n",
        "    tf.keras.layers.Softmax()\n",
        "])\n",
        "\n"
      ],
      "execution_count": 0,
      "outputs": []
    },
    {
      "cell_type": "code",
      "metadata": {
        "id": "hikqZt258ml0",
        "colab_type": "code",
        "colab": {
          "base_uri": "https://localhost:8080/",
          "height": 311
        },
        "outputId": "602e1a30-0c38-4294-cb0b-eccce63fecc1"
      },
      "source": [
        "probability_model(x_test[:5])"
      ],
      "execution_count": 31,
      "outputs": [
        {
          "output_type": "execute_result",
          "data": {
            "text/plain": [
              "<tf.Tensor: shape=(5, 10), dtype=float32, numpy=\n",
              "array([[3.30019276e-07, 1.64772884e-09, 2.77373624e-06, 4.17212897e-04,\n",
              "        1.88412654e-11, 2.27295209e-06, 2.01418933e-13, 9.99574125e-01,\n",
              "        1.17703371e-06, 2.10176222e-06],\n",
              "       [1.95896419e-08, 2.78749053e-06, 9.99968767e-01, 2.74922950e-05,\n",
              "        2.57170235e-15, 7.63615105e-07, 2.38852742e-08, 5.33553843e-12,\n",
              "        2.22447312e-07, 6.73964973e-15],\n",
              "       [5.17774765e-07, 9.98393118e-01, 9.44706189e-05, 4.08357155e-05,\n",
              "        9.71004556e-05, 8.42929694e-06, 1.03496795e-05, 1.25105202e-03,\n",
              "        1.03070059e-04, 9.06097455e-07],\n",
              "       [9.99947548e-01, 7.36440353e-10, 4.16004550e-05, 2.79548829e-07,\n",
              "        4.51502757e-07, 2.41111678e-07, 8.84881410e-06, 3.20849921e-07,\n",
              "        5.45641976e-09, 6.97501491e-07],\n",
              "       [1.60714771e-05, 6.48034126e-10, 1.16381370e-05, 4.51938709e-09,\n",
              "        9.99702513e-01, 1.57263486e-07, 6.99766190e-07, 1.11075235e-04,\n",
              "        8.84355302e-07, 1.56842245e-04]], dtype=float32)>"
            ]
          },
          "metadata": {
            "tags": []
          },
          "execution_count": 31
        }
      ]
    },
    {
      "cell_type": "code",
      "metadata": {
        "id": "QNxv6GVi8t5Y",
        "colab_type": "code",
        "colab": {
          "base_uri": "https://localhost:8080/",
          "height": 403
        },
        "outputId": "51af77a6-596f-4ec8-e828-48cb0dd5bfa0"
      },
      "source": [
        "probability_model.compile(optimizer='adam', loss=loss_fn, metrics='accuracy')\n",
        "probability_model.fit(x_train, y_train, epochs=10)"
      ],
      "execution_count": 32,
      "outputs": [
        {
          "output_type": "stream",
          "text": [
            "Epoch 1/10\n",
            "1875/1875 [==============================] - 4s 2ms/step - loss: 1.4902 - accuracy: 0.9766\n",
            "Epoch 2/10\n",
            "1875/1875 [==============================] - 4s 2ms/step - loss: 1.4862 - accuracy: 0.9790\n",
            "Epoch 3/10\n",
            "1875/1875 [==============================] - 4s 2ms/step - loss: 1.4834 - accuracy: 0.9810\n",
            "Epoch 4/10\n",
            "1875/1875 [==============================] - 4s 2ms/step - loss: 1.4824 - accuracy: 0.9810\n",
            "Epoch 5/10\n",
            "1875/1875 [==============================] - 4s 2ms/step - loss: 1.4805 - accuracy: 0.9834\n",
            "Epoch 6/10\n",
            "1875/1875 [==============================] - 4s 2ms/step - loss: 1.4793 - accuracy: 0.9839\n",
            "Epoch 7/10\n",
            "1875/1875 [==============================] - 4s 2ms/step - loss: 1.4786 - accuracy: 0.9848\n",
            "Epoch 8/10\n",
            "1875/1875 [==============================] - 4s 2ms/step - loss: 1.4781 - accuracy: 0.9845\n",
            "Epoch 9/10\n",
            "1875/1875 [==============================] - 4s 2ms/step - loss: 1.4763 - accuracy: 0.9863\n",
            "Epoch 10/10\n",
            "1875/1875 [==============================] - 4s 2ms/step - loss: 1.4765 - accuracy: 0.9862\n"
          ],
          "name": "stdout"
        },
        {
          "output_type": "execute_result",
          "data": {
            "text/plain": [
              "<tensorflow.python.keras.callbacks.History at 0x7f5cee9cf780>"
            ]
          },
          "metadata": {
            "tags": []
          },
          "execution_count": 32
        }
      ]
    },
    {
      "cell_type": "code",
      "metadata": {
        "id": "V74f7YsB9IVl",
        "colab_type": "code",
        "colab": {
          "base_uri": "https://localhost:8080/",
          "height": 54
        },
        "outputId": "b1719c95-e2b5-4a6f-e5c5-0f674eaec989"
      },
      "source": [
        "probability_model.evaluate(x_test, y_test, verbose=1)"
      ],
      "execution_count": 33,
      "outputs": [
        {
          "output_type": "stream",
          "text": [
            "313/313 [==============================] - 0s 1ms/step - loss: 1.4813 - accuracy: 0.9806\n"
          ],
          "name": "stdout"
        },
        {
          "output_type": "execute_result",
          "data": {
            "text/plain": [
              "[1.4812705516815186, 0.9805999994277954]"
            ]
          },
          "metadata": {
            "tags": []
          },
          "execution_count": 33
        }
      ]
    },
    {
      "cell_type": "code",
      "metadata": {
        "id": "TGJ9hRSy9XLg",
        "colab_type": "code",
        "colab": {}
      },
      "source": [
        ""
      ],
      "execution_count": 0,
      "outputs": []
    }
  ]
}