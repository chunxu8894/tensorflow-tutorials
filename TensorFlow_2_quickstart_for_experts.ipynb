{
  "nbformat": 4,
  "nbformat_minor": 0,
  "metadata": {
    "colab": {
      "name": "TensorFlow 2 quickstart for experts.ipynb",
      "provenance": [],
      "collapsed_sections": [],
      "authorship_tag": "ABX9TyN3ixvz8S+TNJkPToN5IGJk",
      "include_colab_link": true
    },
    "kernelspec": {
      "name": "python3",
      "display_name": "Python 3"
    }
  },
  "cells": [
    {
      "cell_type": "markdown",
      "metadata": {
        "id": "view-in-github",
        "colab_type": "text"
      },
      "source": [
        "<a href=\"https://colab.research.google.com/github/chunxu8894/tensorflow-tutorials/blob/master/TensorFlow_2_quickstart_for_experts.ipynb\" target=\"_parent\"><img src=\"https://colab.research.google.com/assets/colab-badge.svg\" alt=\"Open In Colab\"/></a>"
      ]
    },
    {
      "cell_type": "markdown",
      "metadata": {
        "id": "FX-N7TIS99oP",
        "colab_type": "text"
      },
      "source": [
        "# TensorFlow 2 quickstart for experts"
      ]
    },
    {
      "cell_type": "code",
      "metadata": {
        "id": "1vAQDII7-BZr",
        "colab_type": "code",
        "colab": {}
      },
      "source": [
        "import tensorflow as tf\n",
        "from tensorflow.keras.layers import Dense, Flatten, Conv2D\n",
        "from tensorflow.keras import Model"
      ],
      "execution_count": 0,
      "outputs": []
    },
    {
      "cell_type": "markdown",
      "metadata": {
        "id": "LICLY1WF-Zr3",
        "colab_type": "text"
      },
      "source": [
        "## 1. Load and prepare the MNIST Dataset"
      ]
    },
    {
      "cell_type": "code",
      "metadata": {
        "id": "H0GKaBzw-NRb",
        "colab_type": "code",
        "colab": {}
      },
      "source": [
        "mnist = tf.keras.datasets.mnist\n",
        "\n",
        "(x_train, y_train), (x_test, y_test) = mnist.load_data()\n",
        "\n",
        "x_train, x_test = x_train/255.0, x_test/255.0\n",
        "\n",
        "#Add a channels dimension\n",
        "x_train = x_train[..., tf.newaxis]\n",
        "x_test = x_test[..., tf.newaxis]"
      ],
      "execution_count": 0,
      "outputs": []
    },
    {
      "cell_type": "markdown",
      "metadata": {
        "id": "Akyfxe7R_CID",
        "colab_type": "text"
      },
      "source": [
        "### Use __tf.data__ to batch and shuffle the dataset:"
      ]
    },
    {
      "cell_type": "code",
      "metadata": {
        "id": "Fxpbn4xz-u-U",
        "colab_type": "code",
        "colab": {}
      },
      "source": [
        "train_ds = tf.data.Dataset.from_tensor_slices((x_train, y_train)).shuffle(1000).batch(32)\n",
        "test_ds = tf.data.Dataset.from_tensor_slices((x_test, y_test)).batch(32)"
      ],
      "execution_count": 0,
      "outputs": []
    },
    {
      "cell_type": "markdown",
      "metadata": {
        "id": "3LkJnrjh_lbK",
        "colab_type": "text"
      },
      "source": [
        "## 2. Build the model\n",
        "\n",
        "Build the tf.keras model using the Keras model subclassing API:"
      ]
    },
    {
      "cell_type": "code",
      "metadata": {
        "id": "krmypBOr_W3H",
        "colab_type": "code",
        "colab": {}
      },
      "source": [
        "class MyModel(Model):\n",
        "  def __init__(self):\n",
        "    super(MyModel, self).__init__()\n",
        "    self.conv1 = Conv2D(32,3, activation='relu')\n",
        "    self.flatten = Flatten()\n",
        "    self.d1 = Dense(128, activation='relu')\n",
        "    self.d2 = Dense(10)\n",
        "    \n",
        "  def call(self, x):\n",
        "    x = self.conv1(x)\n",
        "    x = self.flatten(x)\n",
        "    x = self.d1(x)\n",
        "    return self.d2(x)\n",
        "\n",
        "#Create an intance of the model\n",
        "model = MyModel()\n",
        "    "
      ],
      "execution_count": 0,
      "outputs": []
    },
    {
      "cell_type": "markdown",
      "metadata": {
        "id": "fjxgU53fAn3w",
        "colab_type": "text"
      },
      "source": [
        "## 3. Optimizer and loss function"
      ]
    },
    {
      "cell_type": "code",
      "metadata": {
        "id": "5LXN8q2uAlwa",
        "colab_type": "code",
        "colab": {}
      },
      "source": [
        "loss_fn = tf.keras.losses.SparseCategoricalCrossentropy(from_logits=True)\n",
        "optimizer = tf.keras.optimizers.Adam()"
      ],
      "execution_count": 0,
      "outputs": []
    },
    {
      "cell_type": "markdown",
      "metadata": {
        "id": "lMNRQ_evBEzo",
        "colab_type": "text"
      },
      "source": [
        "## 4. Metrics and accuracy"
      ]
    },
    {
      "cell_type": "code",
      "metadata": {
        "id": "GgC2mUSQBAV7",
        "colab_type": "code",
        "colab": {}
      },
      "source": [
        "train_loss = tf.keras.metrics.Mean(name='train_loss')\n",
        "train_accuracy = tf.keras.metrics.SparseCategoricalAccuracy(name='train_accuracy')\n",
        "\n",
        "test_loss = tf.keras.metrics.Mean(name='test_loss')\n",
        "test_accuracy = tf.keras.metrics.SparseCategoricalAccuracy(name='test_accuracy')"
      ],
      "execution_count": 0,
      "outputs": []
    },
    {
      "cell_type": "markdown",
      "metadata": {
        "id": "dJYBn1u3BnXW",
        "colab_type": "text"
      },
      "source": [
        "##. 5 Train the Model\n",
        "\n",
        "Use the tf.GradientTape to train the model"
      ]
    },
    {
      "cell_type": "code",
      "metadata": {
        "id": "mRFPiq9nBOch",
        "colab_type": "code",
        "colab": {}
      },
      "source": [
        "@tf.function\n",
        "def train_step(images, labels):\n",
        "  with tf.GradientTape() as tape:\n",
        "    #traing = True is only needed if there are layers with different behavior during training versus inference (e.g Dropout)\n",
        "    predictions = model(images, training = True)\n",
        "    loss = loss_fn(labels, predictions)\n",
        "  gradients = tape.gradient(loss, model.trainable_variables)\n",
        "  optimizer.apply_gradients(zip(gradients, model.trainable_variables))\n",
        "\n",
        "  train_loss(loss)\n",
        "  train_accuracy(labels, predictions)\n"
      ],
      "execution_count": 0,
      "outputs": []
    },
    {
      "cell_type": "markdown",
      "metadata": {
        "id": "Fd8XeAlPOZ65",
        "colab_type": "text"
      },
      "source": [
        "Test the model\n"
      ]
    },
    {
      "cell_type": "code",
      "metadata": {
        "id": "9RLZyA9KOYBf",
        "colab_type": "code",
        "colab": {}
      },
      "source": [
        "@tf.function\n",
        "def test_step(images, labels):\n",
        "\n",
        "  #training = False is only needed if there are layers with different behavior during training versus inference\n",
        "  predictions = model(images, training = False)\n",
        "  t_loss = loss_fn(labels, predictions)\n",
        "\n",
        "  test_loss(t_loss)\n",
        "  test_accuracy(labels, predictions)\n",
        "\n"
      ],
      "execution_count": 0,
      "outputs": []
    },
    {
      "cell_type": "code",
      "metadata": {
        "id": "cINYguzTO2F0",
        "colab_type": "code",
        "colab": {
          "base_uri": "https://localhost:8080/",
          "height": 129
        },
        "outputId": "04a61147-cc39-40ee-8cd4-555861bbdc33"
      },
      "source": [
        "EPOCHS = 5\n",
        "\n",
        "for epoch in range(EPOCHS):\n",
        "  \n",
        "  #Reset the metrics at the start of the next epoch\n",
        "  train_loss.reset_states()\n",
        "  train_accuracy.reset_states()\n",
        "  test_loss.reset_states()\n",
        "  test_accuracy.reset_states\n",
        "\n",
        "  for images, labels in train_ds:\n",
        "    train_step(images, labels)\n",
        "\n",
        "  for images, labels in test_ds:\n",
        "    test_step(images, labels)\n",
        "\n",
        "  template = 'Epoch {}, Loss: :{}, Accuracy: {}, TestLoss: {}, Test Accuracy: {}'\n",
        "  print(template.format(epoch+1, train_loss.result(), train_accuracy.result()*100, test_loss.result, test_accuracy.result()*100))"
      ],
      "execution_count": 16,
      "outputs": [
        {
          "output_type": "stream",
          "text": [
            "Epoch 1, Loss: :0.13190606236457825, Accuracy: 95.97833251953125, TestLoss: <bound method Reduce.result of <tensorflow.python.keras.metrics.Mean object at 0x7fdd03afdc50>>, Test Accuracy: 97.43000030517578\n",
            "Epoch 2, Loss: :0.04014884680509567, Accuracy: 98.76000213623047, TestLoss: <bound method Reduce.result of <tensorflow.python.keras.metrics.Mean object at 0x7fdd03afdc50>>, Test Accuracy: 97.61499786376953\n",
            "Epoch 3, Loss: :0.021506162360310555, Accuracy: 99.31500244140625, TestLoss: <bound method Reduce.result of <tensorflow.python.keras.metrics.Mean object at 0x7fdd03afdc50>>, Test Accuracy: 97.70333099365234\n",
            "Epoch 4, Loss: :0.012634452432394028, Accuracy: 99.54499816894531, TestLoss: <bound method Reduce.result of <tensorflow.python.keras.metrics.Mean object at 0x7fdd03afdc50>>, Test Accuracy: 97.81999969482422\n",
            "Epoch 5, Loss: :0.009984318166971207, Accuracy: 99.66999816894531, TestLoss: <bound method Reduce.result of <tensorflow.python.keras.metrics.Mean object at 0x7fdd03afdc50>>, Test Accuracy: 97.89800262451172\n"
          ],
          "name": "stdout"
        }
      ]
    },
    {
      "cell_type": "markdown",
      "metadata": {
        "id": "wyf1SqUpRfVT",
        "colab_type": "text"
      },
      "source": [
        "We need to discuss about some function in this tutorial such as:\n",
        "- @tf.function\n",
        "- How to calculate the accuracy\n",
        "- The different between variant of Loss function\n",
        "- What is tf.GradientTape\n",
        "- SparseCategoricalCrossentropy ?\n",
        "- Why #Add a channels dimension with these command\n",
        "    + x_train = x_train[..., tf.newaxis]\n",
        "    + x_test = x_test[..., tf.newaxis]\n",
        "- Why the test_step have no tf.GradientTape"
      ]
    },
    {
      "cell_type": "code",
      "metadata": {
        "id": "sjuuUQXuPt_j",
        "colab_type": "code",
        "colab": {}
      },
      "source": [
        ""
      ],
      "execution_count": 0,
      "outputs": []
    }
  ]
}