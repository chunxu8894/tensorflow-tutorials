{
  "nbformat": 4,
  "nbformat_minor": 0,
  "metadata": {
    "colab": {
      "name": "Text classification with preprocessed text: Movie reviews.ipynb",
      "provenance": [],
      "authorship_tag": "ABX9TyPD9SdaqWW1q5TP5qesqFgj",
      "include_colab_link": true
    },
    "kernelspec": {
      "name": "python3",
      "display_name": "Python 3"
    }
  },
  "cells": [
    {
      "cell_type": "markdown",
      "metadata": {
        "id": "view-in-github",
        "colab_type": "text"
      },
      "source": [
        "<a href=\"https://colab.research.google.com/github/chunxu8894/tensorflow-tutorials/blob/master/Text_classification_with_preprocessed_text_Movie_reviews.ipynb\" target=\"_parent\"><img src=\"https://colab.research.google.com/assets/colab-badge.svg\" alt=\"Open In Colab\"/></a>"
      ]
    },
    {
      "cell_type": "code",
      "metadata": {
        "id": "1LDQGgCok8BT",
        "colab_type": "code",
        "colab": {
          "base_uri": "https://localhost:8080/",
          "height": 72
        },
        "outputId": "31194280-452d-4858-fc3c-29aee6f5bde7"
      },
      "source": [
        "!pip install -q tf_nightly\n",
        "import tensorflow as tf"
      ],
      "execution_count": 1,
      "outputs": [
        {
          "output_type": "stream",
          "text": [
            "\u001b[K     |████████████████████████████████| 517.2MB 30kB/s \n",
            "\u001b[K     |████████████████████████████████| 2.9MB 49.4MB/s \n",
            "\u001b[K     |████████████████████████████████| 460kB 48.8MB/s \n",
            "\u001b[?25h"
          ],
          "name": "stdout"
        }
      ]
    },
    {
      "cell_type": "code",
      "metadata": {
        "id": "Ki9eZW1ql2PS",
        "colab_type": "code",
        "colab": {
          "base_uri": "https://localhost:8080/",
          "height": 35
        },
        "outputId": "b0a1b830-e6a6-4683-b7f7-f9a4689ce79b"
      },
      "source": [
        "from tensorflow import keras\n",
        "import tensorflow_datasets as tfds\n",
        "\n",
        "tfds.disable_progress_bar()\n",
        "import numpy as np\n",
        "\n",
        "print(tf.__version__)"
      ],
      "execution_count": 3,
      "outputs": [
        {
          "output_type": "stream",
          "text": [
            "2.2.0-dev20200407\n"
          ],
          "name": "stdout"
        }
      ]
    },
    {
      "cell_type": "markdown",
      "metadata": {
        "id": "5V49xAnWmcUK",
        "colab_type": "text"
      },
      "source": [
        "## 1. Download the IMDB dataset\n",
        "THe IMDB movie reviews datasets have been converted to sequences of integers"
      ]
    },
    {
      "cell_type": "code",
      "metadata": {
        "id": "Ues9M-bwmOJa",
        "colab_type": "code",
        "colab": {
          "base_uri": "https://localhost:8080/",
          "height": 129
        },
        "outputId": "b1027828-7d95-4af4-8337-6bd8c49a15ed"
      },
      "source": [
        "(train_data, test_data), info = tfds.load('imdb_reviews/subwords8k', split=(tfds.Split.TRAIN, tfds.Split.TEST), as_supervised=True, with_info=True)\n"
      ],
      "execution_count": 4,
      "outputs": [
        {
          "output_type": "stream",
          "text": [
            "\u001b[1mDownloading and preparing dataset imdb_reviews/subwords8k/1.0.0 (download: 80.23 MiB, generated: Unknown size, total: 80.23 MiB) to /root/tensorflow_datasets/imdb_reviews/subwords8k/1.0.0...\u001b[0m\n",
            "Shuffling and writing examples to /root/tensorflow_datasets/imdb_reviews/subwords8k/1.0.0.incomplete289FIW/imdb_reviews-train.tfrecord\n",
            "Shuffling and writing examples to /root/tensorflow_datasets/imdb_reviews/subwords8k/1.0.0.incomplete289FIW/imdb_reviews-test.tfrecord\n",
            "Shuffling and writing examples to /root/tensorflow_datasets/imdb_reviews/subwords8k/1.0.0.incomplete289FIW/imdb_reviews-unsupervised.tfrecord\n",
            "\u001b[1mDataset imdb_reviews downloaded and prepared to /root/tensorflow_datasets/imdb_reviews/subwords8k/1.0.0. Subsequent calls will reuse this data.\u001b[0m\n"
          ],
          "name": "stdout"
        }
      ]
    },
    {
      "cell_type": "markdown",
      "metadata": {
        "id": "cwenwjW_n2Ny",
        "colab_type": "text"
      },
      "source": [
        "### Try the encoder\n",
        "\n",
        "the dataset info includes the text encoder (a __tfds.features.text.SubwordTextEncoder__)."
      ]
    },
    {
      "cell_type": "code",
      "metadata": {
        "id": "7jcdRVT4nOBS",
        "colab_type": "code",
        "colab": {
          "base_uri": "https://localhost:8080/",
          "height": 35
        },
        "outputId": "38757681-8d99-43c0-8b26-c7cd2d65c0c1"
      },
      "source": [
        "encoder = info.features['text'].encoder\n",
        "\n",
        "print('Vocabulara size: %s ' % (encoder.vocab_size))"
      ],
      "execution_count": 6,
      "outputs": [
        {
          "output_type": "stream",
          "text": [
            "Vocabulara size: 8185 \n"
          ],
          "name": "stdout"
        }
      ]
    },
    {
      "cell_type": "markdown",
      "metadata": {
        "id": "sobj2gH1ocjh",
        "colab_type": "text"
      },
      "source": [
        "This text encoder will reversibly encode any string:"
      ]
    },
    {
      "cell_type": "code",
      "metadata": {
        "id": "Y3zyEVCcoSwT",
        "colab_type": "code",
        "colab": {
          "base_uri": "https://localhost:8080/",
          "height": 54
        },
        "outputId": "bb067e06-a06d-4889-f8ad-4a0913caf188"
      },
      "source": [
        "sample_string = 'Hello Tensorflow'\n",
        "\n",
        "encoded_string = encoder.encode(sample_string)\n",
        "print(encoded_string)\n",
        "\n",
        "decoded_string = encoder.decode(encoded_string)\n",
        "print(decoded_string)"
      ],
      "execution_count": 9,
      "outputs": [
        {
          "output_type": "stream",
          "text": [
            "[4025, 222, 6307, 2327, 2934]\n",
            "Hello Tensorflow\n"
          ],
          "name": "stdout"
        }
      ]
    },
    {
      "cell_type": "markdown",
      "metadata": {
        "id": "SepvTQYio5JB",
        "colab_type": "text"
      },
      "source": [
        "This encoder encode the string by breaking it into subword or characters if the word is not in its dictionary. So the more a string resembles the dataset, the shorter the encoded representation will be"
      ]
    },
    {
      "cell_type": "code",
      "metadata": {
        "id": "rG72mYADosg4",
        "colab_type": "code",
        "colab": {
          "base_uri": "https://localhost:8080/",
          "height": 109
        },
        "outputId": "97324d42-330f-4d9b-a48c-6fe0d2737cc4"
      },
      "source": [
        "for ts in encoded_string:\n",
        "  print(\"{}  =>> {}\".format(ts, encoder.decode([ts])))"
      ],
      "execution_count": 11,
      "outputs": [
        {
          "output_type": "stream",
          "text": [
            "4025  =>> Hell\n",
            "222  =>> o \n",
            "6307  =>> Ten\n",
            "2327  =>> sor\n",
            "2934  =>> flow\n"
          ],
          "name": "stdout"
        }
      ]
    },
    {
      "cell_type": "markdown",
      "metadata": {
        "id": "pBF6gRPYpr4G",
        "colab_type": "text"
      },
      "source": [
        "## 2. Explorer the data\n",
        "The dataset comes preprocessed: each sample is an array of integers reprenseting the word of the movie reviews. The text of reviews have been converted to integers, where each integer represents a specifi word-piece in the dictionary.\n",
        "Each label is an integer value of eithre 0 or 1. where 0 is negative review and 1 is positive review"
      ]
    },
    {
      "cell_type": "code",
      "metadata": {
        "id": "aAtP3_6PpdqT",
        "colab_type": "code",
        "colab": {
          "base_uri": "https://localhost:8080/",
          "height": 256
        },
        "outputId": "4d04dca7-b622-4011-a019-c37b066d0fa6"
      },
      "source": [
        "for train_example, train_label in train_data.take(1):\n",
        "  print(type(train_example))\n",
        "  print(\"Train example: \", train_example[:100])\n",
        "  print(type(train_label))\n",
        "  print('Encoded Text: ', train_example[:10].numpy())\n",
        "  print(\"Label: \", train_label)"
      ],
      "execution_count": 14,
      "outputs": [
        {
          "output_type": "stream",
          "text": [
            "<class 'tensorflow.python.framework.ops.EagerTensor'>\n",
            "Train example:  tf.Tensor(\n",
            "[  62   18   41  604  927   65    3  644 7968   21   35 5096   36   11\n",
            "   43 2948 5240  102   50  681 7862 1244    3 3266   29  122  640    2\n",
            "   26   14  279  438   35   79  349  384   11 1991    3  492   79  122\n",
            "  188  117   33 4047 4531   14   65 7968    8 1819 3947    3   62   27\n",
            "    9   41  577 5044 2629 2552 7193 7961 3642    3   19  107 3903  225\n",
            "   85  198   72    1 1512  738 2347  102 6245    8   85  308   79 6936\n",
            " 7961   23 4981 8044    3 6429 7961 1141 1335 1848 4848   55 3601 4217\n",
            " 8050    2], shape=(100,), dtype=int64)\n",
            "<class 'tensorflow.python.framework.ops.EagerTensor'>\n",
            "Encoded Text:  [  62   18   41  604  927   65    3  644 7968   21]\n",
            "Label:  tf.Tensor(0, shape=(), dtype=int64)\n"
          ],
          "name": "stdout"
        }
      ]
    },
    {
      "cell_type": "markdown",
      "metadata": {
        "id": "NWAGL9RQrbKX",
        "colab_type": "text"
      },
      "source": [
        "## 3. Preparing the data for training\n",
        "You will want to create batches of traing data for your model. The reviews are all different lengths, so use __padded_batch__ to zero pad the sequences while batching"
      ]
    },
    {
      "cell_type": "code",
      "metadata": {
        "id": "VNYkTVNvrHCT",
        "colab_type": "code",
        "colab": {}
      },
      "source": [
        "BUFFER_SIZE = 1000\n",
        "\n",
        "train_batches = (train_data.shuffle(BUFFER_SIZE).padded_batch(32, padded_shapes=([None], [])))\n",
        "test_batches = (test_data.padded_batch(32, padded_shapes=([None], [])))"
      ],
      "execution_count": 0,
      "outputs": []
    },
    {
      "cell_type": "markdown",
      "metadata": {
        "id": "zecZMhmAsp2B",
        "colab_type": "text"
      },
      "source": [
        "**Note: As of TensorFlow 2.2 the padded_shapes argument is no longer required. The default behavior is to pad all axes to the longest in the batch.**"
      ]
    },
    {
      "cell_type": "markdown",
      "metadata": {
        "id": "KrDHrcWUtQTR",
        "colab_type": "text"
      },
      "source": [
        "Each batch will have a shape of (batch_size, sequence_length) because the padding is dynamic each batch will have a different length"
      ]
    },
    {
      "cell_type": "code",
      "metadata": {
        "id": "pu8QCNE-scR3",
        "colab_type": "code",
        "colab": {
          "base_uri": "https://localhost:8080/",
          "height": 384
        },
        "outputId": "95579909-d5e4-44c4-b227-bc40a09b9462"
      },
      "source": [
        "for example_batch,label_batch in train_batches.take(10):\n",
        "  print(example_batch.shape)\n",
        "  print(label_batch.shape)"
      ],
      "execution_count": 20,
      "outputs": [
        {
          "output_type": "stream",
          "text": [
            "(32, 1615)\n",
            "(32,)\n",
            "(32, 1497)\n",
            "(32,)\n",
            "(32, 1217)\n",
            "(32,)\n",
            "(32, 1432)\n",
            "(32,)\n",
            "(32, 934)\n",
            "(32,)\n",
            "(32, 1052)\n",
            "(32,)\n",
            "(32, 754)\n",
            "(32,)\n",
            "(32, 1296)\n",
            "(32,)\n",
            "(32, 920)\n",
            "(32,)\n",
            "(32, 977)\n",
            "(32,)\n"
          ],
          "name": "stdout"
        }
      ]
    },
    {
      "cell_type": "markdown",
      "metadata": {
        "id": "UceZZUsgtndR",
        "colab_type": "text"
      },
      "source": [
        "## 4. Build the model\n",
        "\n",
        "Always requires some main architectural decisions:\n",
        "- How many layers to use in the model?\n",
        "- How many hidden units to use for each layer?\n",
        "\n",
        "In this example, the input data consist of an array of word-indices. The label to predict are eithre 0 or 1. Let's build a \"Continous bag of words\" style model for this problem:\n",
        "\n",
        "*** Caution: This model doesn't use masking, so the zero-padding is used as part of the input, so the padding length may affect the output. To fix this, see the masking and padding guide. ***"
      ]
    },
    {
      "cell_type": "code",
      "metadata": {
        "id": "OuhhVyR8s4HB",
        "colab_type": "code",
        "colab": {
          "base_uri": "https://localhost:8080/",
          "height": 274
        },
        "outputId": "ba8b7de9-3bab-49af-a181-a15cc0852f06"
      },
      "source": [
        "model = keras.Sequential([\n",
        "  keras.layers.Embedding(encoder.vocab_size, 16),\n",
        "  keras.layers.GlobalAveragePooling1D(),\n",
        "  keras.layers.Dense(1)\n",
        "])\n",
        "\n",
        "model.summary()"
      ],
      "execution_count": 21,
      "outputs": [
        {
          "output_type": "stream",
          "text": [
            "Model: \"sequential\"\n",
            "_________________________________________________________________\n",
            "Layer (type)                 Output Shape              Param #   \n",
            "=================================================================\n",
            "embedding (Embedding)        (None, None, 16)          130960    \n",
            "_________________________________________________________________\n",
            "global_average_pooling1d (Gl (None, 16)                0         \n",
            "_________________________________________________________________\n",
            "dense (Dense)                (None, 1)                 17        \n",
            "=================================================================\n",
            "Total params: 130,977\n",
            "Trainable params: 130,977\n",
            "Non-trainable params: 0\n",
            "_________________________________________________________________\n"
          ],
          "name": "stdout"
        }
      ]
    },
    {
      "cell_type": "markdown",
      "metadata": {
        "id": "oVIp1eakwxjn",
        "colab_type": "text"
      },
      "source": [
        "1. Embedding layer takes the inter-encoded vocabulary and looks up the embedding vector for each word-index. These vectors are learned as the model trains. The vectors add a dimension to the output array. The result dimensions are : (batch, sequence, embedding)\n",
        "2.\n",
        "3.\n",
        "\n",
        "Hidden Units\n",
        "\n"
      ]
    },
    {
      "cell_type": "markdown",
      "metadata": {
        "id": "SkoHB4IsxhO8",
        "colab_type": "text"
      },
      "source": [
        "## Loss function and optimer\n",
        "\n",
        "optimizer adam\n",
        "loss function: binary_crossentropy"
      ]
    },
    {
      "cell_type": "code",
      "metadata": {
        "id": "d45Tm-qhwaMz",
        "colab_type": "code",
        "colab": {}
      },
      "source": [
        "model.compile(optimizer='adam', loss = tf.keras.losses.BinaryCrossentropy(from_logits=True), metrics=['accuracy'])"
      ],
      "execution_count": 0,
      "outputs": []
    },
    {
      "cell_type": "markdown",
      "metadata": {
        "id": "J4sxMYZmyIIG",
        "colab_type": "text"
      },
      "source": [
        "## 5. Train the model\n"
      ]
    },
    {
      "cell_type": "code",
      "metadata": {
        "id": "0fp6t6cqyMSK",
        "colab_type": "code",
        "colab": {
          "base_uri": "https://localhost:8080/",
          "height": 752
        },
        "outputId": "5847b9db-c8d9-446e-9619-0b98c68bc28a"
      },
      "source": [
        "history = model.fit(train_batches, epochs=20, validation_data=test_batches, validation_steps=30)"
      ],
      "execution_count": 24,
      "outputs": [
        {
          "output_type": "stream",
          "text": [
            "Epoch 1/20\n",
            "782/782 [==============================] - 6s 8ms/step - loss: 0.6819 - accuracy: 0.5008 - val_loss: 0.6632 - val_accuracy: 0.5052\n",
            "Epoch 2/20\n",
            "782/782 [==============================] - 6s 8ms/step - loss: 0.6175 - accuracy: 0.5577 - val_loss: 0.5930 - val_accuracy: 0.6250\n",
            "Epoch 3/20\n",
            "782/782 [==============================] - 6s 8ms/step - loss: 0.5371 - accuracy: 0.6700 - val_loss: 0.5301 - val_accuracy: 0.6583\n",
            "Epoch 4/20\n",
            "782/782 [==============================] - 6s 8ms/step - loss: 0.4702 - accuracy: 0.7578 - val_loss: 0.4794 - val_accuracy: 0.7552\n",
            "Epoch 5/20\n",
            "782/782 [==============================] - 6s 8ms/step - loss: 0.4201 - accuracy: 0.8028 - val_loss: 0.4432 - val_accuracy: 0.8188\n",
            "Epoch 6/20\n",
            "782/782 [==============================] - 7s 8ms/step - loss: 0.3790 - accuracy: 0.8344 - val_loss: 0.4159 - val_accuracy: 0.8010\n",
            "Epoch 7/20\n",
            "782/782 [==============================] - 7s 9ms/step - loss: 0.3466 - accuracy: 0.8550 - val_loss: 0.3974 - val_accuracy: 0.8146\n",
            "Epoch 8/20\n",
            "782/782 [==============================] - 6s 8ms/step - loss: 0.3217 - accuracy: 0.8681 - val_loss: 0.3806 - val_accuracy: 0.8583\n",
            "Epoch 9/20\n",
            "782/782 [==============================] - 6s 8ms/step - loss: 0.3014 - accuracy: 0.8793 - val_loss: 0.3690 - val_accuracy: 0.8615\n",
            "Epoch 10/20\n",
            "782/782 [==============================] - 6s 8ms/step - loss: 0.2838 - accuracy: 0.8866 - val_loss: 0.3603 - val_accuracy: 0.8604\n",
            "Epoch 11/20\n",
            "782/782 [==============================] - 7s 8ms/step - loss: 0.2708 - accuracy: 0.8944 - val_loss: 0.3554 - val_accuracy: 0.8583\n",
            "Epoch 12/20\n",
            "782/782 [==============================] - 6s 8ms/step - loss: 0.2603 - accuracy: 0.9009 - val_loss: 0.3506 - val_accuracy: 0.8615\n",
            "Epoch 13/20\n",
            "782/782 [==============================] - 7s 8ms/step - loss: 0.2478 - accuracy: 0.9037 - val_loss: 0.3468 - val_accuracy: 0.8656\n",
            "Epoch 14/20\n",
            "782/782 [==============================] - 6s 8ms/step - loss: 0.2365 - accuracy: 0.9094 - val_loss: 0.3481 - val_accuracy: 0.8594\n",
            "Epoch 15/20\n",
            "782/782 [==============================] - 6s 8ms/step - loss: 0.2281 - accuracy: 0.9126 - val_loss: 0.3431 - val_accuracy: 0.8656\n",
            "Epoch 16/20\n",
            "782/782 [==============================] - 6s 8ms/step - loss: 0.2189 - accuracy: 0.9158 - val_loss: 0.3422 - val_accuracy: 0.8656\n",
            "Epoch 17/20\n",
            "782/782 [==============================] - 6s 8ms/step - loss: 0.2116 - accuracy: 0.9202 - val_loss: 0.3429 - val_accuracy: 0.8698\n",
            "Epoch 18/20\n",
            "782/782 [==============================] - 6s 8ms/step - loss: 0.2048 - accuracy: 0.9222 - val_loss: 0.3444 - val_accuracy: 0.8656\n",
            "Epoch 19/20\n",
            "782/782 [==============================] - 6s 8ms/step - loss: 0.1981 - accuracy: 0.9241 - val_loss: 0.3435 - val_accuracy: 0.8667\n",
            "Epoch 20/20\n",
            "782/782 [==============================] - 6s 8ms/step - loss: 0.1921 - accuracy: 0.9270 - val_loss: 0.3519 - val_accuracy: 0.8604\n"
          ],
          "name": "stdout"
        }
      ]
    },
    {
      "cell_type": "markdown",
      "metadata": {
        "id": "1if402zLzVK-",
        "colab_type": "text"
      },
      "source": [
        "## 6. Evaluate the model"
      ]
    },
    {
      "cell_type": "code",
      "metadata": {
        "id": "Ud0GORw9yebB",
        "colab_type": "code",
        "colab": {
          "base_uri": "https://localhost:8080/",
          "height": 54
        },
        "outputId": "37856118-3648-4325-8d6b-82f925091345"
      },
      "source": [
        "model.evaluate(test_batches, verbose=1)"
      ],
      "execution_count": 25,
      "outputs": [
        {
          "output_type": "stream",
          "text": [
            "782/782 [==============================] - 3s 4ms/step - loss: 0.3124 - accuracy: 0.8656\n"
          ],
          "name": "stdout"
        },
        {
          "output_type": "execute_result",
          "data": {
            "text/plain": [
              "[0.3123665452003479, 0.8656399846076965]"
            ]
          },
          "metadata": {
            "tags": []
          },
          "execution_count": 25
        }
      ]
    },
    {
      "cell_type": "markdown",
      "metadata": {
        "id": "zMIB3L8azwA2",
        "colab_type": "text"
      },
      "source": [
        "## 7. Create a graph of accuracy and loss over time\n",
        "model.fit() returns a  History object that contains a dictionary with everything that happened during training:"
      ]
    },
    {
      "cell_type": "code",
      "metadata": {
        "id": "SPrv0uoYzepn",
        "colab_type": "code",
        "colab": {
          "base_uri": "https://localhost:8080/",
          "height": 35
        },
        "outputId": "99003039-0c28-43e2-af84-5604a9b1cfa6"
      },
      "source": [
        "history_dict = history.history\n",
        "history_dict.keys()\n"
      ],
      "execution_count": 37,
      "outputs": [
        {
          "output_type": "execute_result",
          "data": {
            "text/plain": [
              "dict_keys(['loss', 'accuracy', 'val_loss', 'val_accuracy'])"
            ]
          },
          "metadata": {
            "tags": []
          },
          "execution_count": 37
        }
      ]
    },
    {
      "cell_type": "code",
      "metadata": {
        "id": "trjqZbRL09Cg",
        "colab_type": "code",
        "colab": {
          "base_uri": "https://localhost:8080/",
          "height": 92
        },
        "outputId": "45ee9a18-6544-4bf0-991d-36bfa3202cfc"
      },
      "source": [
        "print(history_dict)\n",
        "print(type(history_dict['loss']))\n",
        "print(len(history_dict['loss']))"
      ],
      "execution_count": 39,
      "outputs": [
        {
          "output_type": "stream",
          "text": [
            "{'loss': [0.6819460988044739, 0.6174927353858948, 0.5370632410049438, 0.47018495202064514, 0.4200734496116638, 0.37898528575897217, 0.3465857207775116, 0.3217228353023529, 0.30136343836784363, 0.28381335735321045, 0.27082887291908264, 0.26030948758125305, 0.2478310614824295, 0.2364913523197174, 0.2281242460012436, 0.21891595423221588, 0.2115582376718521, 0.20481328666210175, 0.19809368252754211, 0.19211573898792267], 'accuracy': [0.5008400082588196, 0.5576800107955933, 0.6700400114059448, 0.7577999830245972, 0.802839994430542, 0.8343600034713745, 0.8550400137901306, 0.868120014667511, 0.8792799711227417, 0.8866000175476074, 0.8943600058555603, 0.9009199738502502, 0.9036800265312195, 0.9093599915504456, 0.9125999808311462, 0.9157999753952026, 0.9202399849891663, 0.9222400188446045, 0.9241200089454651, 0.9269999861717224], 'val_loss': [0.6632464528083801, 0.5930337309837341, 0.5300734043121338, 0.47943368554115295, 0.4432477056980133, 0.4158811569213867, 0.3973638117313385, 0.3805772662162781, 0.36899858713150024, 0.36026057600975037, 0.3553634583950043, 0.35063090920448303, 0.34683769941329956, 0.3481273651123047, 0.34305813908576965, 0.3421579599380493, 0.34294119477272034, 0.3443976640701294, 0.3434835374355316, 0.3518885672092438], 'val_accuracy': [0.5052083134651184, 0.625, 0.6583333611488342, 0.7552083134651184, 0.8187500238418579, 0.8010416626930237, 0.8145833611488342, 0.8583333492279053, 0.8614583611488342, 0.8604166507720947, 0.8583333492279053, 0.8614583611488342, 0.8656250238418579, 0.859375, 0.8656250238418579, 0.8656250238418579, 0.8697916865348816, 0.8656250238418579, 0.8666666746139526, 0.8604166507720947]}\n",
            "<class 'list'>\n",
            "20\n"
          ],
          "name": "stdout"
        }
      ]
    },
    {
      "cell_type": "code",
      "metadata": {
        "id": "Ec2m4Prc09hI",
        "colab_type": "code",
        "colab": {
          "base_uri": "https://localhost:8080/",
          "height": 295
        },
        "outputId": "60578d8a-9b48-4e30-8cb5-45163242db39"
      },
      "source": [
        "import matplotlib.pyplot as plt\n",
        "\n",
        "acc = history_dict['accuracy']\n",
        "loss = history_dict['loss']\n",
        "val_acc = history_dict['val_accuracy']\n",
        "val_loss = history_dict['val_loss']\n",
        "\n",
        "epochs = range(1, len(acc)+1)\n",
        "\n",
        "# 'bo' is for 'blue dot'\n",
        "# 'b' is for ' solid blue line'\n",
        "plt.plot(epochs, loss, 'bo', label='Training Loss')\n",
        "plt.plot(epochs, val_loss, 'b', label='Validation Loss ')\n",
        "plt.title('Training and validation loss')\n",
        "plt.xlabel('Epochs')\n",
        "plt.ylabel('Loss')\n",
        "plt.legend()\n",
        "plt.show()"
      ],
      "execution_count": 41,
      "outputs": [
        {
          "output_type": "display_data",
          "data": {
            "image/png": "[encoded data removed]",
            "text/plain": [
              "<Figure size 432x288 with 1 Axes>"
            ]
          },
          "metadata": {
            "tags": []
          }
        }
      ]
    },
    {
      "cell_type": "code",
      "metadata": {
        "id": "_QkdtRbQ1oAv",
        "colab_type": "code",
        "colab": {
          "base_uri": "https://localhost:8080/",
          "height": 295
        },
        "outputId": "81ff145b-a024-4edb-c1f3-a21e2e918277"
      },
      "source": [
        "plt.clf()   # clear figure\n",
        "\n",
        "plt.plot(epochs, acc, 'bo', label='Training acc')\n",
        "plt.plot(epochs, val_acc, 'b', label='Validation acc')\n",
        "plt.title('Training and validation accuracy')\n",
        "plt.xlabel('Epochs')\n",
        "plt.ylabel('Accuracy')\n",
        "plt.legend(loc='lower right')\n",
        "\n",
        "plt.show()\n"
      ],
      "execution_count": 42,
      "outputs": [
        {
          "output_type": "display_data",
          "data": {
            "image/png": "[encoded data removed]",
            "text/plain": [
              "<Figure size 432x288 with 1 Axes>"
            ]
          },
          "metadata": {
            "tags": []
          }
        }
      ]
    },
    {
      "cell_type": "markdown",
      "metadata": {
        "id": "z1uySgmD3T36",
        "colab_type": "text"
      },
      "source": [
        "This is an example of overfitting: the model performs better on the training data than it does on data it has never seen before. After this point, the model over-optimizes and learns representations specific to the training data that do not generalize to test dat"
      ]
    },
    {
      "cell_type": "markdown",
      "metadata": {
        "id": "1gUY028s3aIa",
        "colab_type": "text"
      },
      "source": [
        "Source: https://www.tensorflow.org/tutorials/keras/text_classification"
      ]
    }
  ]
}